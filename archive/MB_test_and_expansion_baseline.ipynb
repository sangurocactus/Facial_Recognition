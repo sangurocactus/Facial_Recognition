{
 "cells": [
  {
   "cell_type": "code",
   "execution_count": 63,
   "metadata": {},
   "outputs": [],
   "source": [
    "%matplotlib inline\n",
    "\n",
    "import pandas as pd\n",
    "import numpy as np\n",
    "import matplotlib.pyplot as plt\n",
    "import matplotlib.patches as patches\n",
    "import matplotlib.image as mpimg\n",
    "\n",
    "from sklearn.metrics import classification_report\n",
    "\n",
    "from keras.models import Sequential \n",
    "from keras.layers import Dense, Dropout, Activation, Conv1D, Conv2D, Flatten, MaxPool2D, AvgPool2D, BatchNormalization, GlobalAveragePooling2D\n",
    "from keras import optimizers\n",
    "\n",
    "np.random.seed(0)\n",
    "\n",
    "from sklearn.pipeline import make_pipeline\n",
    "from sklearn.preprocessing import MinMaxScaler\n",
    "\n",
    "from tensorflow.keras.preprocessing.image import ImageDataGenerator\n",
    "from tensorflow.keras.preprocessing.image import array_to_img, img_to_array, load_img\n",
    "\n",
    "#PW: added warning ignore\n",
    "import warnings\n",
    "warnings.filterwarnings('ignore')\n",
    "import time"
   ]
  },
  {
   "cell_type": "code",
   "execution_count": 10,
   "metadata": {},
   "outputs": [],
   "source": [
    "# Here we extract the data files (NOTE: please enter data path)\n",
    "path_train = '../Data/training/training.csv'\n",
    "path_test = '../Data/test/test.csv' \n",
    "\n",
    "df_train = pd.read_csv(path_train)\n",
    "df_test = pd.read_csv(path_test)"
   ]
  },
  {
   "cell_type": "code",
   "execution_count": 11,
   "metadata": {},
   "outputs": [
    {
     "data": {
      "text/html": [
       "<div>\n",
       "<style scoped>\n",
       "    .dataframe tbody tr th:only-of-type {\n",
       "        vertical-align: middle;\n",
       "    }\n",
       "\n",
       "    .dataframe tbody tr th {\n",
       "        vertical-align: top;\n",
       "    }\n",
       "\n",
       "    .dataframe thead th {\n",
       "        text-align: right;\n",
       "    }\n",
       "</style>\n",
       "<table border=\"1\" class=\"dataframe\">\n",
       "  <thead>\n",
       "    <tr style=\"text-align: right;\">\n",
       "      <th></th>\n",
       "      <th>0</th>\n",
       "      <th>1</th>\n",
       "      <th>2</th>\n",
       "      <th>3</th>\n",
       "      <th>4</th>\n",
       "      <th>5</th>\n",
       "      <th>6</th>\n",
       "      <th>7</th>\n",
       "      <th>8</th>\n",
       "      <th>9</th>\n",
       "      <th>...</th>\n",
       "      <th>9206</th>\n",
       "      <th>9207</th>\n",
       "      <th>9208</th>\n",
       "      <th>9209</th>\n",
       "      <th>9210</th>\n",
       "      <th>9211</th>\n",
       "      <th>9212</th>\n",
       "      <th>9213</th>\n",
       "      <th>9214</th>\n",
       "      <th>9215</th>\n",
       "    </tr>\n",
       "  </thead>\n",
       "  <tbody>\n",
       "    <tr>\n",
       "      <th>0</th>\n",
       "      <td>238</td>\n",
       "      <td>236</td>\n",
       "      <td>237</td>\n",
       "      <td>238</td>\n",
       "      <td>240</td>\n",
       "      <td>240</td>\n",
       "      <td>239</td>\n",
       "      <td>241</td>\n",
       "      <td>241</td>\n",
       "      <td>243</td>\n",
       "      <td>...</td>\n",
       "      <td>33</td>\n",
       "      <td>29</td>\n",
       "      <td>30</td>\n",
       "      <td>34</td>\n",
       "      <td>39</td>\n",
       "      <td>49</td>\n",
       "      <td>62</td>\n",
       "      <td>70</td>\n",
       "      <td>75</td>\n",
       "      <td>90</td>\n",
       "    </tr>\n",
       "    <tr>\n",
       "      <th>1</th>\n",
       "      <td>219</td>\n",
       "      <td>215</td>\n",
       "      <td>204</td>\n",
       "      <td>196</td>\n",
       "      <td>204</td>\n",
       "      <td>211</td>\n",
       "      <td>212</td>\n",
       "      <td>200</td>\n",
       "      <td>180</td>\n",
       "      <td>168</td>\n",
       "      <td>...</td>\n",
       "      <td>1</td>\n",
       "      <td>1</td>\n",
       "      <td>1</td>\n",
       "      <td>1</td>\n",
       "      <td>1</td>\n",
       "      <td>1</td>\n",
       "      <td>1</td>\n",
       "      <td>1</td>\n",
       "      <td>1</td>\n",
       "      <td>1</td>\n",
       "    </tr>\n",
       "    <tr>\n",
       "      <th>2</th>\n",
       "      <td>144</td>\n",
       "      <td>142</td>\n",
       "      <td>159</td>\n",
       "      <td>180</td>\n",
       "      <td>188</td>\n",
       "      <td>188</td>\n",
       "      <td>184</td>\n",
       "      <td>180</td>\n",
       "      <td>167</td>\n",
       "      <td>132</td>\n",
       "      <td>...</td>\n",
       "      <td>64</td>\n",
       "      <td>60</td>\n",
       "      <td>56</td>\n",
       "      <td>61</td>\n",
       "      <td>70</td>\n",
       "      <td>69</td>\n",
       "      <td>71</td>\n",
       "      <td>78</td>\n",
       "      <td>78</td>\n",
       "      <td>77</td>\n",
       "    </tr>\n",
       "    <tr>\n",
       "      <th>3</th>\n",
       "      <td>193</td>\n",
       "      <td>192</td>\n",
       "      <td>193</td>\n",
       "      <td>194</td>\n",
       "      <td>194</td>\n",
       "      <td>194</td>\n",
       "      <td>193</td>\n",
       "      <td>192</td>\n",
       "      <td>168</td>\n",
       "      <td>111</td>\n",
       "      <td>...</td>\n",
       "      <td>1</td>\n",
       "      <td>1</td>\n",
       "      <td>1</td>\n",
       "      <td>1</td>\n",
       "      <td>1</td>\n",
       "      <td>1</td>\n",
       "      <td>1</td>\n",
       "      <td>1</td>\n",
       "      <td>1</td>\n",
       "      <td>1</td>\n",
       "    </tr>\n",
       "    <tr>\n",
       "      <th>4</th>\n",
       "      <td>147</td>\n",
       "      <td>148</td>\n",
       "      <td>160</td>\n",
       "      <td>196</td>\n",
       "      <td>215</td>\n",
       "      <td>214</td>\n",
       "      <td>216</td>\n",
       "      <td>217</td>\n",
       "      <td>219</td>\n",
       "      <td>220</td>\n",
       "      <td>...</td>\n",
       "      <td>33</td>\n",
       "      <td>34</td>\n",
       "      <td>37</td>\n",
       "      <td>37</td>\n",
       "      <td>43</td>\n",
       "      <td>46</td>\n",
       "      <td>83</td>\n",
       "      <td>140</td>\n",
       "      <td>170</td>\n",
       "      <td>176</td>\n",
       "    </tr>\n",
       "  </tbody>\n",
       "</table>\n",
       "<p>5 rows × 9216 columns</p>\n",
       "</div>"
      ],
      "text/plain": [
       "  0    1    2    3    4    5    6    7    8    9     ... 9206 9207 9208 9209  \\\n",
       "0  238  236  237  238  240  240  239  241  241  243  ...   33   29   30   34   \n",
       "1  219  215  204  196  204  211  212  200  180  168  ...    1    1    1    1   \n",
       "2  144  142  159  180  188  188  184  180  167  132  ...   64   60   56   61   \n",
       "3  193  192  193  194  194  194  193  192  168  111  ...    1    1    1    1   \n",
       "4  147  148  160  196  215  214  216  217  219  220  ...   33   34   37   37   \n",
       "\n",
       "  9210 9211 9212 9213 9214 9215  \n",
       "0   39   49   62   70   75   90  \n",
       "1    1    1    1    1    1    1  \n",
       "2   70   69   71   78   78   77  \n",
       "3    1    1    1    1    1    1  \n",
       "4   43   46   83  140  170  176  \n",
       "\n",
       "[5 rows x 9216 columns]"
      ]
     },
     "execution_count": 11,
     "metadata": {},
     "output_type": "execute_result"
    }
   ],
   "source": [
    "# Processing training data such that each pixel has its own column and is seperated from the labels\n",
    "kaggle_train = df_train.loc[:,'Image'].T\n",
    "kaggle_train = kaggle_train.astype(str)\n",
    "kaggle_train = kaggle_train.str.split(\" \", expand = True) \n",
    "kaggle_train.head()"
   ]
  },
  {
   "cell_type": "code",
   "execution_count": 12,
   "metadata": {},
   "outputs": [
    {
     "data": {
      "text/plain": [
       "Index(['left_eye_center_x', 'left_eye_center_y', 'right_eye_center_x',\n",
       "       'right_eye_center_y', 'left_eye_inner_corner_x',\n",
       "       'left_eye_inner_corner_y', 'left_eye_outer_corner_x',\n",
       "       'left_eye_outer_corner_y', 'right_eye_inner_corner_x',\n",
       "       'right_eye_inner_corner_y', 'right_eye_outer_corner_x',\n",
       "       'right_eye_outer_corner_y', 'left_eyebrow_inner_end_x',\n",
       "       'left_eyebrow_inner_end_y', 'left_eyebrow_outer_end_x',\n",
       "       'left_eyebrow_outer_end_y', 'right_eyebrow_inner_end_x',\n",
       "       'right_eyebrow_inner_end_y', 'right_eyebrow_outer_end_x',\n",
       "       'right_eyebrow_outer_end_y', 'nose_tip_x', 'nose_tip_y',\n",
       "       'mouth_left_corner_x', 'mouth_left_corner_y', 'mouth_right_corner_x',\n",
       "       'mouth_right_corner_y', 'mouth_center_top_lip_x',\n",
       "       'mouth_center_top_lip_y', 'mouth_center_bottom_lip_x',\n",
       "       'mouth_center_bottom_lip_y'],\n",
       "      dtype='object')"
      ]
     },
     "execution_count": 12,
     "metadata": {},
     "output_type": "execute_result"
    }
   ],
   "source": [
    "# Creates labels for facial feature position\n",
    "labels = df_train.iloc[:, 0:30] \n",
    "labels.columns"
   ]
  },
  {
   "cell_type": "code",
   "execution_count": 13,
   "metadata": {},
   "outputs": [],
   "source": [
    "norm_X_train = kaggle_train.astype(int) / 255. # normalize image pixel to be between 0 and 1"
   ]
  },
  {
   "cell_type": "code",
   "execution_count": 14,
   "metadata": {},
   "outputs": [
    {
     "name": "stdout",
     "output_type": "stream",
     "text": [
      "Correct shape? (2140, 9216)\n"
     ]
    }
   ],
   "source": [
    "index_none_missing = np.sum(np.isfinite(labels), axis = 1) == labels.shape[1]\n",
    "norm_X_train = np.asarray(norm_X_train.loc[index_none_missing,:])\n",
    "print('Correct shape?', norm_X_train.shape)"
   ]
  },
  {
   "cell_type": "code",
   "execution_count": 15,
   "metadata": {},
   "outputs": [
    {
     "name": "stdout",
     "output_type": "stream",
     "text": [
      "Correct shape? (2140, 30)\n"
     ]
    }
   ],
   "source": [
    "labels_no_na = np.asarray(labels.loc[index_none_missing,:])\n",
    "print('Correct shape?', labels_no_na.shape)"
   ]
  },
  {
   "cell_type": "markdown",
   "metadata": {},
   "source": [
    "### Splitting Training Data in Training and Validation Data\n",
    "\n",
    "As the Kaggle test set comes without labels, we will use the training data and split the data into a validation set and a training set. The validation set is used to compare the performance of different model specifications on the same unseen test data."
   ]
  },
  {
   "cell_type": "code",
   "execution_count": 17,
   "metadata": {},
   "outputs": [
    {
     "name": "stdout",
     "output_type": "stream",
     "text": [
      "(428, 9216) (428, 30)\n",
      "(1712, 9216) (1712, 30)\n"
     ]
    }
   ],
   "source": [
    "shuffle = np.random.permutation(np.arange(norm_X_train.shape[0]))\n",
    "X_train, Y = norm_X_train[shuffle], labels_no_na[shuffle]\n",
    "\n",
    "# Split 80% train, 20% validation\n",
    "split_train = 0.8\n",
    "train = int(X_train.shape[0]*split_train)\n",
    "train_data, train_labels = X_train[:train], Y[:train]\n",
    "val_data, val_labels = X_train[train:], Y[train:]\n",
    "\n",
    "print(val_data.shape, val_labels.shape)\n",
    "print(train_data.shape, train_labels.shape)"
   ]
  },
  {
   "cell_type": "code",
   "execution_count": 18,
   "metadata": {},
   "outputs": [],
   "source": [
    "# We define the metrics of RMSE as our benchmark for model performance\n",
    "from keras import backend\n",
    "\n",
    "def rmse(y_true, y_pred):\n",
    "    return backend.sqrt(backend.mean(backend.square(y_pred - y_true)))\n",
    "def r_square(y_true, y_pred):\n",
    "    SS_res =  backend.sum(backend.square(y_true - y_pred)) \n",
    "    SS_tot = backend.sum(backend.square(y_true - backend.mean(y_true))) \n",
    "    return ( 1 - SS_res/(SS_tot + backend.epsilon()) )"
   ]
  },
  {
   "cell_type": "code",
   "execution_count": 21,
   "metadata": {},
   "outputs": [],
   "source": [
    "#convert the \"image\" column to 96x96 images for plotting the data later\n",
    "train_data = np.stack([item.reshape(96,96) for item in train_data])[:, :, :, np.newaxis]\n",
    "#convert the rest of the data to 2140 lists with 30 key facial keypoint positions\n",
    "train_labels = np.vstack(train_labels)"
   ]
  },
  {
   "cell_type": "code",
   "execution_count": 22,
   "metadata": {},
   "outputs": [
    {
     "name": "stdout",
     "output_type": "stream",
     "text": [
      "(1712, 96, 96, 1) (1712, 30)\n"
     ]
    }
   ],
   "source": [
    "print(train_data.shape, train_labels.shape)"
   ]
  },
  {
   "cell_type": "code",
   "execution_count": 23,
   "metadata": {},
   "outputs": [],
   "source": [
    "#convert the \"image\" column to 96x96 images for plotting the data later\n",
    "val_data = np.stack([item.reshape(96,96) for item in val_data])[:, :, :, np.newaxis]\n",
    "#convert the rest of the data to 2140 lists with 30 key facial keypoint positions\n",
    "val_labels = np.vstack(val_labels)"
   ]
  },
  {
   "cell_type": "code",
   "execution_count": 24,
   "metadata": {},
   "outputs": [
    {
     "name": "stdout",
     "output_type": "stream",
     "text": [
      "(428, 96, 96, 1) (428, 30)\n"
     ]
    }
   ],
   "source": [
    "print(val_data.shape, val_labels.shape)"
   ]
  },
  {
   "cell_type": "code",
   "execution_count": 30,
   "metadata": {},
   "outputs": [
    {
     "name": "stdout",
     "output_type": "stream",
     "text": [
      "(1712, 9216)\n"
     ]
    }
   ],
   "source": [
    "print(train_data.reshape(train_labels.shape[0], -1).shape)"
   ]
  },
  {
   "cell_type": "markdown",
   "metadata": {},
   "source": [
    "## Baseline"
   ]
  },
  {
   "cell_type": "code",
   "execution_count": 33,
   "metadata": {},
   "outputs": [],
   "source": [
    "base_model = Sequential()#instantiate a base sequential model\n",
    "base_model.add(Dense(30, input_shape=(96*96,), activation=\"relu\"))#CHANGE INPUT_DIM to INPUT_SHAPE\n",
    "base_model.add(Dense(30)) #the output has no activation function so it's a regression problem "
   ]
  },
  {
   "cell_type": "code",
   "execution_count": 34,
   "metadata": {},
   "outputs": [
    {
     "name": "stdout",
     "output_type": "stream",
     "text": [
      "Train on 1712 samples, validate on 428 samples\n",
      "Epoch 1/100\n",
      "1712/1712 [==============================] - 1s 418us/step - loss: 269.3270 - mean_squared_error: 269.3270 - r_square: 0.2419 - rmse: 14.8535 - val_loss: 130.9398 - val_mean_squared_error: 130.9398 - val_r_square: 0.6283 - val_rmse: 11.3190\n",
      "Epoch 2/100\n",
      "1712/1712 [==============================] - 0s 278us/step - loss: 121.8530 - mean_squared_error: 121.8530 - r_square: 0.6566 - rmse: 10.8907 - val_loss: 109.0849 - val_mean_squared_error: 109.0849 - val_r_square: 0.6907 - val_rmse: 10.3410\n",
      "Epoch 3/100\n",
      "1712/1712 [==============================] - 0s 274us/step - loss: 109.5404 - mean_squared_error: 109.5404 - r_square: 0.6912 - rmse: 10.3174 - val_loss: 104.0629 - val_mean_squared_error: 104.0629 - val_r_square: 0.7049 - val_rmse: 10.0893\n",
      "Epoch 4/100\n",
      "1712/1712 [==============================] - 0s 271us/step - loss: 98.2595 - mean_squared_error: 98.2595 - r_square: 0.7230 - rmse: 9.7828 - val_loss: 96.3151 - val_mean_squared_error: 96.3151 - val_r_square: 0.7270 - val_rmse: 9.7032\n",
      "Epoch 5/100\n",
      "1712/1712 [==============================] - 0s 273us/step - loss: 93.0980 - mean_squared_error: 93.0980 - r_square: 0.7378 - rmse: 9.5212 - val_loss: 92.7875 - val_mean_squared_error: 92.7875 - val_r_square: 0.7370 - val_rmse: 9.5228\n",
      "Epoch 6/100\n",
      "1712/1712 [==============================] - 0s 276us/step - loss: 86.7526 - mean_squared_error: 86.7526 - r_square: 0.7556 - rmse: 9.1955 - val_loss: 88.5842 - val_mean_squared_error: 88.5842 - val_r_square: 0.7489 - val_rmse: 9.2988\n",
      "Epoch 7/100\n",
      "1712/1712 [==============================] - 0s 277us/step - loss: 80.5476 - mean_squared_error: 80.5476 - r_square: 0.7732 - rmse: 8.8656 - val_loss: 86.1617 - val_mean_squared_error: 86.1617 - val_r_square: 0.7559 - val_rmse: 9.1650\n",
      "Epoch 8/100\n",
      "1712/1712 [==============================] - 0s 285us/step - loss: 73.3096 - mean_squared_error: 73.3096 - r_square: 0.7936 - rmse: 8.4642 - val_loss: 82.0684 - val_mean_squared_error: 82.0684 - val_r_square: 0.7674 - val_rmse: 8.9379\n",
      "Epoch 9/100\n",
      "1712/1712 [==============================] - 0s 280us/step - loss: 69.2834 - mean_squared_error: 69.2834 - r_square: 0.8049 - rmse: 8.2372 - val_loss: 79.8921 - val_mean_squared_error: 79.8921 - val_r_square: 0.7735 - val_rmse: 8.8137\n",
      "Epoch 10/100\n",
      "1712/1712 [==============================] - 0s 268us/step - loss: 66.5321 - mean_squared_error: 66.5321 - r_square: 0.8126 - rmse: 8.0730 - val_loss: 76.7208 - val_mean_squared_error: 76.7208 - val_r_square: 0.7825 - val_rmse: 8.6356\n",
      "Epoch 11/100\n",
      "1712/1712 [==============================] - 0s 282us/step - loss: 64.8578 - mean_squared_error: 64.8578 - r_square: 0.8174 - rmse: 7.9622 - val_loss: 74.4230 - val_mean_squared_error: 74.4230 - val_r_square: 0.7889 - val_rmse: 8.5040\n",
      "Epoch 12/100\n",
      "1712/1712 [==============================] - 0s 282us/step - loss: 61.4533 - mean_squared_error: 61.4533 - r_square: 0.8269 - rmse: 7.7450 - val_loss: 74.1909 - val_mean_squared_error: 74.1909 - val_r_square: 0.7895 - val_rmse: 8.4933\n",
      "Epoch 13/100\n",
      "1712/1712 [==============================] - 0s 283us/step - loss: 57.3131 - mean_squared_error: 57.3131 - r_square: 0.8385 - rmse: 7.4760 - val_loss: 73.1194 - val_mean_squared_error: 73.1194 - val_r_square: 0.7925 - val_rmse: 8.4319\n",
      "Epoch 14/100\n",
      "1712/1712 [==============================] - 0s 280us/step - loss: 54.3137 - mean_squared_error: 54.3137 - r_square: 0.8470 - rmse: 7.2808 - val_loss: 70.6253 - val_mean_squared_error: 70.6253 - val_r_square: 0.7995 - val_rmse: 8.2862\n",
      "Epoch 15/100\n",
      "1712/1712 [==============================] - 0s 278us/step - loss: 52.1711 - mean_squared_error: 52.1711 - r_square: 0.8531 - rmse: 7.1385 - val_loss: 71.0158 - val_mean_squared_error: 71.0158 - val_r_square: 0.7984 - val_rmse: 8.3156\n",
      "Epoch 16/100\n",
      "1712/1712 [==============================] - 0s 276us/step - loss: 49.7634 - mean_squared_error: 49.7634 - r_square: 0.8599 - rmse: 6.9722 - val_loss: 65.0773 - val_mean_squared_error: 65.0773 - val_r_square: 0.8152 - val_rmse: 7.9491\n",
      "Epoch 17/100\n",
      "1712/1712 [==============================] - 0s 270us/step - loss: 47.8436 - mean_squared_error: 47.8436 - r_square: 0.8652 - rmse: 6.8355 - val_loss: 61.7545 - val_mean_squared_error: 61.7545 - val_r_square: 0.8247 - val_rmse: 7.7380\n",
      "Epoch 18/100\n",
      "1712/1712 [==============================] - 0s 272us/step - loss: 45.9743 - mean_squared_error: 45.9743 - r_square: 0.8705 - rmse: 6.6987 - val_loss: 60.3595 - val_mean_squared_error: 60.3595 - val_r_square: 0.8286 - val_rmse: 7.6491\n",
      "Epoch 19/100\n",
      "1712/1712 [==============================] - 0s 282us/step - loss: 43.8853 - mean_squared_error: 43.8853 - r_square: 0.8764 - rmse: 6.5423 - val_loss: 60.7868 - val_mean_squared_error: 60.7868 - val_r_square: 0.8274 - val_rmse: 7.6784\n",
      "Epoch 20/100\n",
      "1712/1712 [==============================] - 0s 279us/step - loss: 42.2046 - mean_squared_error: 42.2046 - r_square: 0.8810 - rmse: 6.4114 - val_loss: 61.6300 - val_mean_squared_error: 61.6300 - val_r_square: 0.8249 - val_rmse: 7.7346\n",
      "Epoch 21/100\n",
      "1712/1712 [==============================] - 0s 286us/step - loss: 40.6621 - mean_squared_error: 40.6621 - r_square: 0.8853 - rmse: 6.2886 - val_loss: 62.7510 - val_mean_squared_error: 62.7510 - val_r_square: 0.8217 - val_rmse: 7.8079\n",
      "Epoch 22/100\n",
      "1712/1712 [==============================] - 0s 275us/step - loss: 38.9396 - mean_squared_error: 38.9396 - r_square: 0.8902 - rmse: 6.1504 - val_loss: 65.1273 - val_mean_squared_error: 65.1273 - val_r_square: 0.8150 - val_rmse: 7.9591\n",
      "Epoch 23/100\n",
      "1712/1712 [==============================] - 0s 280us/step - loss: 36.8670 - mean_squared_error: 36.8670 - r_square: 0.8960 - rmse: 5.9822 - val_loss: 67.2667 - val_mean_squared_error: 67.2667 - val_r_square: 0.8089 - val_rmse: 8.0927\n",
      "Epoch 24/100\n",
      "1712/1712 [==============================] - 0s 286us/step - loss: 34.9891 - mean_squared_error: 34.9891 - r_square: 0.9014 - rmse: 5.8272 - val_loss: 64.8376 - val_mean_squared_error: 64.8376 - val_r_square: 0.8158 - val_rmse: 7.9423\n",
      "Epoch 25/100\n",
      "1712/1712 [==============================] - 0s 278us/step - loss: 34.1143 - mean_squared_error: 34.1143 - r_square: 0.9038 - rmse: 5.7523 - val_loss: 64.2938 - val_mean_squared_error: 64.2938 - val_r_square: 0.8173 - val_rmse: 7.9098\n",
      "Epoch 26/100\n",
      "1712/1712 [==============================] - 0s 278us/step - loss: 32.8699 - mean_squared_error: 32.8699 - r_square: 0.9073 - rmse: 5.6435 - val_loss: 62.9706 - val_mean_squared_error: 62.9706 - val_r_square: 0.8211 - val_rmse: 7.8275\n",
      "Epoch 27/100\n",
      "1712/1712 [==============================] - 1s 299us/step - loss: 31.8021 - mean_squared_error: 31.8021 - r_square: 0.9103 - rmse: 5.5483 - val_loss: 61.9906 - val_mean_squared_error: 61.9906 - val_r_square: 0.8239 - val_rmse: 7.7666\n",
      "Epoch 28/100\n",
      "1712/1712 [==============================] - 1s 293us/step - loss: 31.0685 - mean_squared_error: 31.0685 - r_square: 0.9124 - rmse: 5.4812 - val_loss: 60.3539 - val_mean_squared_error: 60.3539 - val_r_square: 0.8285 - val_rmse: 7.6624\n",
      "Epoch 29/100\n",
      "1712/1712 [==============================] - 0s 279us/step - loss: 30.4470 - mean_squared_error: 30.4470 - r_square: 0.9142 - rmse: 5.4272 - val_loss: 57.9710 - val_mean_squared_error: 57.9710 - val_r_square: 0.8353 - val_rmse: 7.5070\n",
      "Epoch 30/100\n",
      "1712/1712 [==============================] - 0s 283us/step - loss: 30.9554 - mean_squared_error: 30.9554 - r_square: 0.9128 - rmse: 5.4622 - val_loss: 63.4702 - val_mean_squared_error: 63.4702 - val_r_square: 0.8197 - val_rmse: 7.8673\n",
      "Epoch 31/100\n",
      "1712/1712 [==============================] - 0s 283us/step - loss: 50.4858 - mean_squared_error: 50.4858 - r_square: 0.8577 - rmse: 6.8175 - val_loss: 65.9414 - val_mean_squared_error: 65.9414 - val_r_square: 0.8127 - val_rmse: 8.0266\n",
      "Epoch 32/100\n",
      "1712/1712 [==============================] - 0s 275us/step - loss: 45.2379 - mean_squared_error: 45.2379 - r_square: 0.8727 - rmse: 6.5474 - val_loss: 84.4067 - val_mean_squared_error: 84.4067 - val_r_square: 0.7602 - val_rmse: 9.0990\n",
      "Epoch 33/100\n",
      "1712/1712 [==============================] - 0s 278us/step - loss: 45.1107 - mean_squared_error: 45.1107 - r_square: 0.8729 - rmse: 6.5761 - val_loss: 51.6912 - val_mean_squared_error: 51.6912 - val_r_square: 0.8533 - val_rmse: 7.0865\n"
     ]
    },
    {
     "name": "stdout",
     "output_type": "stream",
     "text": [
      "Epoch 34/100\n",
      "1712/1712 [==============================] - 0s 286us/step - loss: 49.0600 - mean_squared_error: 49.0600 - r_square: 0.8621 - rmse: 6.7382 - val_loss: 52.9674 - val_mean_squared_error: 52.9674 - val_r_square: 0.8497 - val_rmse: 7.1789\n",
      "Epoch 35/100\n",
      "1712/1712 [==============================] - 0s 278us/step - loss: 39.5020 - mean_squared_error: 39.5020 - r_square: 0.8888 - rmse: 6.0673 - val_loss: 54.0679 - val_mean_squared_error: 54.0679 - val_r_square: 0.8466 - val_rmse: 7.2527\n",
      "Epoch 36/100\n",
      "1712/1712 [==============================] - 0s 274us/step - loss: 35.8801 - mean_squared_error: 35.8801 - r_square: 0.8989 - rmse: 5.8259 - val_loss: 55.9151 - val_mean_squared_error: 55.9151 - val_r_square: 0.8413 - val_rmse: 7.3769\n",
      "Epoch 37/100\n",
      "1712/1712 [==============================] - 0s 276us/step - loss: 34.8171 - mean_squared_error: 34.8171 - r_square: 0.9019 - rmse: 5.7331 - val_loss: 56.1736 - val_mean_squared_error: 56.1736 - val_r_square: 0.8405 - val_rmse: 7.3961\n",
      "Epoch 38/100\n",
      "1712/1712 [==============================] - 1s 306us/step - loss: 33.0781 - mean_squared_error: 33.0781 - r_square: 0.9067 - rmse: 5.5975 - val_loss: 57.4861 - val_mean_squared_error: 57.4861 - val_r_square: 0.8368 - val_rmse: 7.4856\n",
      "Epoch 39/100\n",
      "1712/1712 [==============================] - 0s 291us/step - loss: 30.6616 - mean_squared_error: 30.6616 - r_square: 0.9136 - rmse: 5.4068 - val_loss: 58.2572 - val_mean_squared_error: 58.2572 - val_r_square: 0.8346 - val_rmse: 7.5393\n",
      "Epoch 40/100\n",
      "1712/1712 [==============================] - 0s 274us/step - loss: 28.9081 - mean_squared_error: 28.9081 - r_square: 0.9185 - rmse: 5.2671 - val_loss: 58.5115 - val_mean_squared_error: 58.5115 - val_r_square: 0.8338 - val_rmse: 7.5589\n",
      "Epoch 41/100\n",
      "1712/1712 [==============================] - 0s 281us/step - loss: 28.5619 - mean_squared_error: 28.5619 - r_square: 0.9194 - rmse: 5.2393 - val_loss: 60.0467 - val_mean_squared_error: 60.0467 - val_r_square: 0.8295 - val_rmse: 7.6604\n",
      "Epoch 42/100\n",
      "1712/1712 [==============================] - 1s 321us/step - loss: 27.6926 - mean_squared_error: 27.6926 - r_square: 0.9219 - rmse: 5.1619 - val_loss: 59.0985 - val_mean_squared_error: 59.0985 - val_r_square: 0.8322 - val_rmse: 7.5999\n",
      "Epoch 43/100\n",
      "1712/1712 [==============================] - 1s 308us/step - loss: 27.0726 - mean_squared_error: 27.0726 - r_square: 0.9236 - rmse: 5.1045 - val_loss: 58.5748 - val_mean_squared_error: 58.5748 - val_r_square: 0.8336 - val_rmse: 7.5663\n",
      "Epoch 44/100\n",
      "1712/1712 [==============================] - 1s 295us/step - loss: 26.4916 - mean_squared_error: 26.4916 - r_square: 0.9253 - rmse: 5.0501 - val_loss: 57.8291 - val_mean_squared_error: 57.8291 - val_r_square: 0.8358 - val_rmse: 7.5179\n",
      "Epoch 45/100\n",
      "1712/1712 [==============================] - 0s 281us/step - loss: 25.8678 - mean_squared_error: 25.8678 - r_square: 0.9270 - rmse: 4.9909 - val_loss: 57.0020 - val_mean_squared_error: 57.0020 - val_r_square: 0.8381 - val_rmse: 7.4636\n",
      "Epoch 46/100\n",
      "1712/1712 [==============================] - 0s 280us/step - loss: 25.1787 - mean_squared_error: 25.1787 - r_square: 0.9290 - rmse: 4.9246 - val_loss: 56.1248 - val_mean_squared_error: 56.1248 - val_r_square: 0.8406 - val_rmse: 7.4055\n",
      "Epoch 47/100\n",
      "1712/1712 [==============================] - 0s 275us/step - loss: 24.3677 - mean_squared_error: 24.3677 - r_square: 0.9312 - rmse: 4.8458 - val_loss: 55.5566 - val_mean_squared_error: 55.5566 - val_r_square: 0.8422 - val_rmse: 7.3676\n",
      "Epoch 48/100\n",
      "1712/1712 [==============================] - 0s 273us/step - loss: 23.3809 - mean_squared_error: 23.3809 - r_square: 0.9340 - rmse: 4.7486 - val_loss: 55.4761 - val_mean_squared_error: 55.4761 - val_r_square: 0.8424 - val_rmse: 7.3621\n",
      "Epoch 49/100\n",
      "1712/1712 [==============================] - 0s 279us/step - loss: 22.1752 - mean_squared_error: 22.1752 - r_square: 0.9375 - rmse: 4.6278 - val_loss: 52.1227 - val_mean_squared_error: 52.1227 - val_r_square: 0.8520 - val_rmse: 7.1320\n",
      "Epoch 50/100\n",
      "1712/1712 [==============================] - 0s 288us/step - loss: 20.6241 - mean_squared_error: 20.6241 - r_square: 0.9419 - rmse: 4.4687 - val_loss: 45.2581 - val_mean_squared_error: 45.2581 - val_r_square: 0.8715 - val_rmse: 6.6375\n",
      "Epoch 51/100\n",
      "1712/1712 [==============================] - 0s 286us/step - loss: 19.3879 - mean_squared_error: 19.3879 - r_square: 0.9454 - rmse: 4.3310 - val_loss: 46.1352 - val_mean_squared_error: 46.1352 - val_r_square: 0.8690 - val_rmse: 6.7004\n",
      "Epoch 52/100\n",
      "1712/1712 [==============================] - 0s 281us/step - loss: 18.1739 - mean_squared_error: 18.1739 - r_square: 0.9488 - rmse: 4.1906 - val_loss: 48.5288 - val_mean_squared_error: 48.5288 - val_r_square: 0.8622 - val_rmse: 6.8721\n",
      "Epoch 53/100\n",
      "1712/1712 [==============================] - 0s 283us/step - loss: 17.5102 - mean_squared_error: 17.5102 - r_square: 0.9506 - rmse: 4.1060 - val_loss: 52.6438 - val_mean_squared_error: 52.6438 - val_r_square: 0.8505 - val_rmse: 7.1589\n",
      "Epoch 54/100\n",
      "1712/1712 [==============================] - 0s 280us/step - loss: 16.9387 - mean_squared_error: 16.9387 - r_square: 0.9522 - rmse: 4.0355 - val_loss: 55.2472 - val_mean_squared_error: 55.2472 - val_r_square: 0.8431 - val_rmse: 7.3339\n",
      "Epoch 55/100\n",
      "1712/1712 [==============================] - 0s 277us/step - loss: 16.4509 - mean_squared_error: 16.4509 - r_square: 0.9536 - rmse: 3.9743 - val_loss: 55.8519 - val_mean_squared_error: 55.8519 - val_r_square: 0.8414 - val_rmse: 7.3728\n",
      "Epoch 56/100\n",
      "1712/1712 [==============================] - 0s 277us/step - loss: 16.1389 - mean_squared_error: 16.1389 - r_square: 0.9545 - rmse: 3.9322 - val_loss: 55.3500 - val_mean_squared_error: 55.3500 - val_r_square: 0.8428 - val_rmse: 7.3381\n",
      "Epoch 57/100\n",
      "1712/1712 [==============================] - 0s 278us/step - loss: 15.9301 - mean_squared_error: 15.9301 - r_square: 0.9551 - rmse: 3.9031 - val_loss: 54.8745 - val_mean_squared_error: 54.8745 - val_r_square: 0.8442 - val_rmse: 7.3055\n",
      "Epoch 58/100\n",
      "1712/1712 [==============================] - 0s 275us/step - loss: 15.8213 - mean_squared_error: 15.8213 - r_square: 0.9554 - rmse: 3.8857 - val_loss: 54.7494 - val_mean_squared_error: 54.7494 - val_r_square: 0.8446 - val_rmse: 7.2967\n",
      "Epoch 59/100\n",
      "1712/1712 [==============================] - 0s 280us/step - loss: 15.6412 - mean_squared_error: 15.6412 - r_square: 0.9559 - rmse: 3.8613 - val_loss: 55.9371 - val_mean_squared_error: 55.9371 - val_r_square: 0.8412 - val_rmse: 7.3759\n",
      "Epoch 60/100\n",
      "1712/1712 [==============================] - 0s 275us/step - loss: 15.4481 - mean_squared_error: 15.4481 - r_square: 0.9564 - rmse: 3.8363 - val_loss: 58.4495 - val_mean_squared_error: 58.4495 - val_r_square: 0.8341 - val_rmse: 7.5413\n",
      "Epoch 61/100\n",
      "1712/1712 [==============================] - 0s 282us/step - loss: 15.4309 - mean_squared_error: 15.4309 - r_square: 0.9564 - rmse: 3.8333 - val_loss: 63.9132 - val_mean_squared_error: 63.9132 - val_r_square: 0.8185 - val_rmse: 7.8904\n",
      "Epoch 62/100\n",
      "1712/1712 [==============================] - 0s 278us/step - loss: 17.1499 - mean_squared_error: 17.1499 - r_square: 0.9516 - rmse: 4.0386 - val_loss: 63.1715 - val_mean_squared_error: 63.1715 - val_r_square: 0.8205 - val_rmse: 7.8410\n",
      "Epoch 63/100\n",
      "1712/1712 [==============================] - 0s 275us/step - loss: 25.8244 - mean_squared_error: 25.8244 - r_square: 0.9270 - rmse: 4.8697 - val_loss: 35.3821 - val_mean_squared_error: 35.3821 - val_r_square: 0.8995 - val_rmse: 5.8548\n",
      "Epoch 64/100\n",
      "1712/1712 [==============================] - 0s 275us/step - loss: 25.7255 - mean_squared_error: 25.7255 - r_square: 0.9276 - rmse: 4.8607 - val_loss: 60.8446 - val_mean_squared_error: 60.8446 - val_r_square: 0.8272 - val_rmse: 7.7055\n",
      "Epoch 65/100\n",
      "1712/1712 [==============================] - 0s 280us/step - loss: 33.9107 - mean_squared_error: 33.9107 - r_square: 0.9045 - rmse: 5.5806 - val_loss: 38.2387 - val_mean_squared_error: 38.2387 - val_r_square: 0.8914 - val_rmse: 6.1034\n",
      "Epoch 66/100\n",
      "1712/1712 [==============================] - 0s 278us/step - loss: 55.5064 - mean_squared_error: 55.5064 - r_square: 0.8435 - rmse: 6.9895 - val_loss: 37.5234 - val_mean_squared_error: 37.5234 - val_r_square: 0.8935 - val_rmse: 6.0462\n",
      "Epoch 67/100\n"
     ]
    },
    {
     "name": "stdout",
     "output_type": "stream",
     "text": [
      "1712/1712 [==============================] - 0s 285us/step - loss: 28.6861 - mean_squared_error: 28.6861 - r_square: 0.9193 - rmse: 5.1216 - val_loss: 37.1131 - val_mean_squared_error: 37.1131 - val_r_square: 0.8947 - val_rmse: 6.0062\n",
      "Epoch 68/100\n",
      "1712/1712 [==============================] - 0s 278us/step - loss: 32.0366 - mean_squared_error: 32.0366 - r_square: 0.9099 - rmse: 5.4437 - val_loss: 36.7612 - val_mean_squared_error: 36.7612 - val_r_square: 0.8957 - val_rmse: 5.9932\n",
      "Epoch 69/100\n",
      "1712/1712 [==============================] - 0s 283us/step - loss: 51.3166 - mean_squared_error: 51.3166 - r_square: 0.8550 - rmse: 6.7175 - val_loss: 39.2826 - val_mean_squared_error: 39.2826 - val_r_square: 0.8887 - val_rmse: 6.2046\n",
      "Epoch 70/100\n",
      "1712/1712 [==============================] - 0s 283us/step - loss: 44.8463 - mean_squared_error: 44.8463 - r_square: 0.8733 - rmse: 6.3424 - val_loss: 38.8324 - val_mean_squared_error: 38.8324 - val_r_square: 0.8899 - val_rmse: 6.1703\n",
      "Epoch 71/100\n",
      "1712/1712 [==============================] - 0s 277us/step - loss: 34.8709 - mean_squared_error: 34.8709 - r_square: 0.9013 - rmse: 5.7018 - val_loss: 35.9083 - val_mean_squared_error: 35.9083 - val_r_square: 0.8982 - val_rmse: 5.9252\n",
      "Epoch 72/100\n",
      "1712/1712 [==============================] - 0s 282us/step - loss: 31.5954 - mean_squared_error: 31.5954 - r_square: 0.9106 - rmse: 5.4275 - val_loss: 35.4094 - val_mean_squared_error: 35.4094 - val_r_square: 0.8996 - val_rmse: 5.8800\n",
      "Epoch 73/100\n",
      "1712/1712 [==============================] - 0s 271us/step - loss: 30.0722 - mean_squared_error: 30.0722 - r_square: 0.9149 - rmse: 5.2990 - val_loss: 35.2957 - val_mean_squared_error: 35.2957 - val_r_square: 0.8999 - val_rmse: 5.8688\n",
      "Epoch 74/100\n",
      "1712/1712 [==============================] - 0s 282us/step - loss: 29.0788 - mean_squared_error: 29.0788 - r_square: 0.9177 - rmse: 5.2145 - val_loss: 35.2960 - val_mean_squared_error: 35.2960 - val_r_square: 0.8999 - val_rmse: 5.8681\n",
      "Epoch 75/100\n",
      "1712/1712 [==============================] - 0s 274us/step - loss: 28.2938 - mean_squared_error: 28.2938 - r_square: 0.9200 - rmse: 5.1471 - val_loss: 35.3356 - val_mean_squared_error: 35.3356 - val_r_square: 0.8998 - val_rmse: 5.8714\n",
      "Epoch 76/100\n",
      "1712/1712 [==============================] - 0s 271us/step - loss: 27.6322 - mean_squared_error: 27.6322 - r_square: 0.9218 - rmse: 5.0898 - val_loss: 35.3836 - val_mean_squared_error: 35.3836 - val_r_square: 0.8997 - val_rmse: 5.8757\n",
      "Epoch 77/100\n",
      "1712/1712 [==============================] - 0s 281us/step - loss: 27.0908 - mean_squared_error: 27.0908 - r_square: 0.9234 - rmse: 5.0428 - val_loss: 35.4163 - val_mean_squared_error: 35.4163 - val_r_square: 0.8996 - val_rmse: 5.8789\n",
      "Epoch 78/100\n",
      "1712/1712 [==============================] - 0s 272us/step - loss: 26.7173 - mean_squared_error: 26.7173 - r_square: 0.9245 - rmse: 5.0116 - val_loss: 35.5362 - val_mean_squared_error: 35.5362 - val_r_square: 0.8992 - val_rmse: 5.8898\n",
      "Epoch 79/100\n",
      "1712/1712 [==============================] - 0s 268us/step - loss: 26.5127 - mean_squared_error: 26.5127 - r_square: 0.9250 - rmse: 4.9969 - val_loss: 35.7387 - val_mean_squared_error: 35.7387 - val_r_square: 0.8987 - val_rmse: 5.9082\n",
      "Epoch 80/100\n",
      "1712/1712 [==============================] - 0s 273us/step - loss: 26.4220 - mean_squared_error: 26.4220 - r_square: 0.9253 - rmse: 4.9918 - val_loss: 35.9204 - val_mean_squared_error: 35.9204 - val_r_square: 0.8981 - val_rmse: 5.9252\n",
      "Epoch 81/100\n",
      "1712/1712 [==============================] - 0s 280us/step - loss: 26.5438 - mean_squared_error: 26.5438 - r_square: 0.9250 - rmse: 5.0077 - val_loss: 35.9047 - val_mean_squared_error: 35.9047 - val_r_square: 0.8982 - val_rmse: 5.9257\n",
      "Epoch 82/100\n",
      "1712/1712 [==============================] - 0s 270us/step - loss: 26.4905 - mean_squared_error: 26.4905 - r_square: 0.9252 - rmse: 5.0047 - val_loss: 35.7596 - val_mean_squared_error: 35.7596 - val_r_square: 0.8986 - val_rmse: 5.9154\n",
      "Epoch 83/100\n",
      "1712/1712 [==============================] - 0s 269us/step - loss: 26.9749 - mean_squared_error: 26.9749 - r_square: 0.9239 - rmse: 5.0525 - val_loss: 35.6382 - val_mean_squared_error: 35.6382 - val_r_square: 0.8989 - val_rmse: 5.9051\n",
      "Epoch 84/100\n",
      "1712/1712 [==============================] - 0s 278us/step - loss: 29.1482 - mean_squared_error: 29.1482 - r_square: 0.9179 - rmse: 5.2318 - val_loss: 53.2954 - val_mean_squared_error: 53.2954 - val_r_square: 0.8487 - val_rmse: 7.2285\n",
      "Epoch 85/100\n",
      "1712/1712 [==============================] - 0s 284us/step - loss: 31.4949 - mean_squared_error: 31.4949 - r_square: 0.9113 - rmse: 5.4669 - val_loss: 82.2459 - val_mean_squared_error: 82.2459 - val_r_square: 0.7665 - val_rmse: 8.9982\n",
      "Epoch 86/100\n",
      "1712/1712 [==============================] - 0s 291us/step - loss: 26.1774 - mean_squared_error: 26.1774 - r_square: 0.9262 - rmse: 5.0194 - val_loss: 42.3938 - val_mean_squared_error: 42.3938 - val_r_square: 0.8797 - val_rmse: 6.4433\n",
      "Epoch 87/100\n",
      "1712/1712 [==============================] - 0s 282us/step - loss: 26.3544 - mean_squared_error: 26.3544 - r_square: 0.9258 - rmse: 5.0094 - val_loss: 41.0191 - val_mean_squared_error: 41.0191 - val_r_square: 0.8836 - val_rmse: 6.3408\n",
      "Epoch 88/100\n",
      "1712/1712 [==============================] - 0s 280us/step - loss: 25.8821 - mean_squared_error: 25.8821 - r_square: 0.9271 - rmse: 4.9740 - val_loss: 52.1740 - val_mean_squared_error: 52.1740 - val_r_square: 0.8519 - val_rmse: 7.1562\n",
      "Epoch 89/100\n",
      "1712/1712 [==============================] - 0s 291us/step - loss: 24.7533 - mean_squared_error: 24.7533 - r_square: 0.9303 - rmse: 4.8882 - val_loss: 32.8139 - val_mean_squared_error: 32.8139 - val_r_square: 0.9069 - val_rmse: 5.6741\n",
      "Epoch 90/100\n",
      "1712/1712 [==============================] - 1s 306us/step - loss: 21.3402 - mean_squared_error: 21.3402 - r_square: 0.9399 - rmse: 4.5434 - val_loss: 32.4985 - val_mean_squared_error: 32.4985 - val_r_square: 0.9078 - val_rmse: 5.6424\n",
      "Epoch 91/100\n",
      "1712/1712 [==============================] - 1s 292us/step - loss: 20.0747 - mean_squared_error: 20.0747 - r_square: 0.9434 - rmse: 4.4133 - val_loss: 32.2938 - val_mean_squared_error: 32.2938 - val_r_square: 0.9084 - val_rmse: 5.6203\n",
      "Epoch 92/100\n",
      "1712/1712 [==============================] - 0s 278us/step - loss: 17.7487 - mean_squared_error: 17.7487 - r_square: 0.9500 - rmse: 4.1616 - val_loss: 31.6203 - val_mean_squared_error: 31.6203 - val_r_square: 0.9103 - val_rmse: 5.5616\n",
      "Epoch 93/100\n",
      "1712/1712 [==============================] - 0s 282us/step - loss: 17.2245 - mean_squared_error: 17.2245 - r_square: 0.9514 - rmse: 4.0856 - val_loss: 30.7664 - val_mean_squared_error: 30.7664 - val_r_square: 0.9128 - val_rmse: 5.4865\n",
      "Epoch 94/100\n",
      "1712/1712 [==============================] - 0s 272us/step - loss: 16.9665 - mean_squared_error: 16.9665 - r_square: 0.9521 - rmse: 4.0463 - val_loss: 30.2707 - val_mean_squared_error: 30.2707 - val_r_square: 0.9142 - val_rmse: 5.4410\n",
      "Epoch 95/100\n",
      "1712/1712 [==============================] - 0s 277us/step - loss: 16.1413 - mean_squared_error: 16.1413 - r_square: 0.9545 - rmse: 3.9429 - val_loss: 29.4584 - val_mean_squared_error: 29.4584 - val_r_square: 0.9165 - val_rmse: 5.3659\n",
      "Epoch 96/100\n",
      "1712/1712 [==============================] - 0s 269us/step - loss: 15.6837 - mean_squared_error: 15.6837 - r_square: 0.9558 - rmse: 3.8947 - val_loss: 31.1032 - val_mean_squared_error: 31.1032 - val_r_square: 0.9118 - val_rmse: 5.5142\n",
      "Epoch 97/100\n",
      "1712/1712 [==============================] - 0s 280us/step - loss: 15.0262 - mean_squared_error: 15.0262 - r_square: 0.9577 - rmse: 3.8141 - val_loss: 28.9514 - val_mean_squared_error: 28.9514 - val_r_square: 0.9179 - val_rmse: 5.3195\n",
      "Epoch 98/100\n",
      "1712/1712 [==============================] - 0s 274us/step - loss: 15.6982 - mean_squared_error: 15.6982 - r_square: 0.9558 - rmse: 3.8832 - val_loss: 28.7996 - val_mean_squared_error: 28.7996 - val_r_square: 0.9183 - val_rmse: 5.3063\n",
      "Epoch 99/100\n",
      "1712/1712 [==============================] - 0s 277us/step - loss: 14.8369 - mean_squared_error: 14.8369 - r_square: 0.9582 - rmse: 3.7819 - val_loss: 28.5394 - val_mean_squared_error: 28.5394 - val_r_square: 0.9191 - val_rmse: 5.2819\n",
      "Epoch 100/100\n"
     ]
    },
    {
     "name": "stdout",
     "output_type": "stream",
     "text": [
      "1712/1712 [==============================] - 0s 269us/step - loss: 15.3034 - mean_squared_error: 15.3034 - r_square: 0.9569 - rmse: 3.8409 - val_loss: 32.6879 - val_mean_squared_error: 32.6879 - val_r_square: 0.9073 - val_rmse: 5.6556\n",
      "The model took 48.684 seconds to run\n"
     ]
    }
   ],
   "source": [
    "start_time=time.time()\n",
    "#sgd = optimizers.SGD(lr=0.01, decay=1e-6, momentum=0.9, nesterov=True)\n",
    "# Optimizer adam, same as Sam's\n",
    "adam = optimizers.Adam(lr=0.01, beta_1=0.9, beta_2=0.999, epsilon=None, decay=0.0, amsgrad=False)\n",
    "#base_model.compile(optimizer=sgd, loss='mean_squared_error', metrics=['accuracy'])#root mean square error b/c accuracy \n",
    "\n",
    "base_model.compile(optimizer=adam, loss='mse', metrics=['mse', r_square, rmse])\n",
    "epochs = 100\n",
    "history = base_model.fit(train_data.reshape(train_labels.shape[0], -1), train_labels, \n",
    "                         validation_data=[val_data.reshape(val_labels.shape[0], -1), val_labels], \n",
    "                         shuffle=False, epochs=epochs, batch_size=20)\n",
    "\n",
    "total_time=time.time()-start_time\n",
    "print(\"The model took {} seconds to run\".format(round(total_time,3)))"
   ]
  },
  {
   "cell_type": "markdown",
   "metadata": {},
   "source": [
    "We plot out our baseline model accuracy and loss with 100 epochs. As indicated by the plots below, the root mean square error decreased drastically between 0-25 epoches and plateaued after that.  This indicates that our model does not learn well with the increasing number of epoches. **The result suggests that we are likely to improve our model performance by introducing additional layers**. "
   ]
  },
  {
   "cell_type": "code",
   "execution_count": 56,
   "metadata": {},
   "outputs": [],
   "source": [
    "def model_evaluation(model, baseline):\n",
    "    print (\"Below are the model performance plots after {} epoches:\".format(epochs))\n",
    "\n",
    "#     # plot training curve for MSE\n",
    "#     plt.ylim(0,100)\n",
    "#     plt.xlim(0,100)\n",
    "#     plt.plot(model.history['mean_squared_error'])\n",
    "#     plt.plot(model.history['val_mean_squared_error'])\n",
    "#     plt.title('MSE Evaluation')\n",
    "#     plt.ylabel('MSE')\n",
    "#     plt.xlabel('epoch')\n",
    "#     plt.legend(['train', 'test'], loc='upper left')\n",
    "#     plt.show()\n",
    "\n",
    "    #plot training curve for R^2 (beware of scale, starts very low negative)\n",
    "    plt.ylim(0.5,1.1)\n",
    "    plt.xlim(0,100)\n",
    "    plt.plot(model.history['r_square'])\n",
    "    plt.plot(model.history['val_r_square'])\n",
    "    plt.title('model R^2')\n",
    "    plt.ylabel('R^2')\n",
    "    plt.xlabel('epoch')\n",
    "    plt.legend(['train', 'test'], loc='upper left')\n",
    "    plt.show()\n",
    "\n",
    "    # plot training curve for rmse\n",
    "    plt.ylim(0,20)\n",
    "    plt.xlim(0,100)\n",
    "    plt.plot(model.history['rmse'])\n",
    "    plt.plot(model.history['val_rmse'])\n",
    "    plt.title('RMSE')\n",
    "    plt.ylabel('rmse')\n",
    "    plt.xlabel('epoch')\n",
    "    plt.legend(['train', 'test'], loc='upper left')\n",
    "    plt.show()\n",
    "    \n",
    "    print('Validation RMSE:', model.history['val_rmse'][-1])\n",
    "    print('Performance increase relative to baseline: ' + \\\n",
    "          str(round(-(model.history['val_rmse'][-1] / baseline.history['val_rmse'][-1] - 1) * 100, 2)) + '%')"
   ]
  },
  {
   "cell_type": "code",
   "execution_count": 57,
   "metadata": {},
   "outputs": [
    {
     "name": "stdout",
     "output_type": "stream",
     "text": [
      "Below are the model performance plots after 100 epoches:\n"
     ]
    },
    {
     "data": {
      "image/png": "[encoded data removed]",
      "text/plain": [
       "<Figure size 432x288 with 1 Axes>"
      ]
     },
     "metadata": {
      "needs_background": "light"
     },
     "output_type": "display_data"
    },
    {
     "data": {
      "image/png": "[encoded data removed]",
      "text/plain": [
       "<Figure size 432x288 with 1 Axes>"
      ]
     },
     "metadata": {
      "needs_background": "light"
     },
     "output_type": "display_data"
    },
    {
     "name": "stdout",
     "output_type": "stream",
     "text": [
      "Validation RMSE: 5.65560494627908\n",
      "Performance increase relative to baseline: -0.0%\n"
     ]
    }
   ],
   "source": [
    "model_evaluation(history, history)"
   ]
  },
  {
   "cell_type": "code",
   "execution_count": 53,
   "metadata": {},
   "outputs": [
    {
     "name": "stdout",
     "output_type": "stream",
     "text": [
      "Train on 1712 samples, validate on 428 samples\n",
      "Epoch 1/100\n",
      "1712/1712 [==============================] - 18s 11ms/step - loss: 2535.4480 - r_square: -6.1517 - rmse: 50.3501 - val_loss: 2450.9150 - val_r_square: -5.9495 - val_rmse: 49.5060\n",
      "Epoch 2/100\n",
      "1712/1712 [==============================] - 18s 10ms/step - loss: 2378.9138 - r_square: -5.7101 - rmse: 48.7710 - val_loss: 2299.2374 - val_r_square: -5.5194 - val_rmse: 47.9496\n",
      "Epoch 3/100\n",
      "1712/1712 [==============================] - 18s 10ms/step - loss: 2231.3801 - r_square: -5.2939 - rmse: 47.2344 - val_loss: 2155.9715 - val_r_square: -5.1131 - val_rmse: 46.4317\n",
      "Epoch 4/100\n",
      "1712/1712 [==============================] - 18s 10ms/step - loss: 2091.9747 - r_square: -4.9006 - rmse: 45.7350 - val_loss: 2020.6007 - val_r_square: -4.7293 - val_rmse: 44.9503\n",
      "Epoch 5/100\n",
      "1712/1712 [==============================] - 18s 11ms/step - loss: 1960.2806 - r_square: -4.5291 - rmse: 44.2720 - val_loss: 1892.7490 - val_r_square: -4.3667 - val_rmse: 43.5049\n",
      "Epoch 6/100\n",
      "1712/1712 [==============================] - 17s 10ms/step - loss: 1835.8972 - r_square: -4.1782 - rmse: 42.8443 - val_loss: 1772.0142 - val_r_square: -4.0243 - val_rmse: 42.0945\n",
      "Epoch 7/100\n",
      "1712/1712 [==============================] - 17s 10ms/step - loss: 1718.4727 - r_square: -3.8469 - rmse: 41.4514 - val_loss: 1658.0647 - val_r_square: -3.7012 - val_rmse: 40.7185\n",
      "Epoch 8/100\n",
      "1712/1712 [==============================] - 18s 10ms/step - loss: 1607.6631 - r_square: -3.5343 - rmse: 40.0926 - val_loss: 1550.5687 - val_r_square: -3.3964 - val_rmse: 39.3764\n",
      "Epoch 9/100\n",
      "1712/1712 [==============================] - 18s 10ms/step - loss: 1503.1552 - r_square: -3.2395 - rmse: 38.7675 - val_loss: 1449.2132 - val_r_square: -3.1090 - val_rmse: 38.0676\n",
      "Epoch 10/100\n",
      "1712/1712 [==============================] - 18s 10ms/step - loss: 1404.6334 - r_square: -2.9615 - rmse: 37.4753 - val_loss: 1353.6932 - val_r_square: -2.8381 - val_rmse: 36.7917\n",
      "Epoch 11/100\n",
      "1712/1712 [==============================] - 18s 10ms/step - loss: 1311.8060 - r_square: -2.6997 - rmse: 36.2157 - val_loss: 1263.7195 - val_r_square: -2.5830 - val_rmse: 35.5479\n",
      "Epoch 12/100\n",
      "1712/1712 [==============================] - 18s 10ms/step - loss: 1224.3863 - r_square: -2.4531 - rmse: 34.9881 - val_loss: 1179.0164 - val_r_square: -2.3428 - val_rmse: 34.3358\n",
      "Epoch 13/100\n",
      "1712/1712 [==============================] - 18s 10ms/step - loss: 1142.1026 - r_square: -2.2209 - rmse: 33.7919 - val_loss: 1099.3128 - val_r_square: -2.1168 - val_rmse: 33.1549\n",
      "Epoch 14/100\n",
      "1712/1712 [==============================] - 18s 10ms/step - loss: 1064.6936 - r_square: -2.0026 - rmse: 32.6265 - val_loss: 1024.3578 - val_r_square: -1.9042 - val_rmse: 32.0046\n",
      "Epoch 15/100\n",
      "1712/1712 [==============================] - 19s 11ms/step - loss: 991.9107 - r_square: -1.7973 - rmse: 31.4914 - val_loss: 953.9042 - val_r_square: -1.7045 - val_rmse: 30.8843\n",
      "Epoch 16/100\n",
      "1712/1712 [==============================] - 17s 10ms/step - loss: 923.5138 - r_square: -1.6043 - rmse: 30.3862 - val_loss: 887.7190 - val_r_square: -1.5168 - val_rmse: 29.7935\n",
      "Epoch 17/100\n",
      "1712/1712 [==============================] - 17s 10ms/step - loss: 859.2730 - r_square: -1.4231 - rmse: 29.3101 - val_loss: 825.5770 - val_r_square: -1.3406 - val_rmse: 28.7318\n",
      "Epoch 18/100\n",
      "1712/1712 [==============================] - 18s 10ms/step - loss: 798.9679 - r_square: -1.2530 - rmse: 28.2627 - val_loss: 767.2608 - val_r_square: -1.1752 - val_rmse: 27.6983\n",
      "Epoch 19/100\n",
      "1712/1712 [==============================] - 18s 10ms/step - loss: 742.3863 - r_square: -1.0934 - rmse: 27.2435 - val_loss: 712.5644 - val_r_square: -1.0201 - val_rmse: 26.6927\n",
      "Epoch 20/100\n",
      "1712/1712 [==============================] - 18s 10ms/step - loss: 689.3269 - r_square: -0.9437 - rmse: 26.2517 - val_loss: 661.2911 - val_r_square: -0.8747 - val_rmse: 25.7144\n",
      "Epoch 21/100\n",
      "1712/1712 [==============================] - 18s 10ms/step - loss: 639.5964 - r_square: -0.8034 - rmse: 25.2869 - val_loss: 613.2510 - val_r_square: -0.7385 - val_rmse: 24.7627\n",
      "Epoch 22/100\n",
      "1712/1712 [==============================] - 18s 10ms/step - loss: 593.0093 - r_square: -0.6720 - rmse: 24.3483 - val_loss: 568.2625 - val_r_square: -0.6110 - val_rmse: 23.8370\n",
      "Epoch 23/100\n",
      "1712/1712 [==============================] - 18s 10ms/step - loss: 549.3888 - r_square: -0.5490 - rmse: 23.4356 - val_loss: 526.1542 - val_r_square: -0.4916 - val_rmse: 22.9368\n",
      "Epoch 24/100\n",
      "1712/1712 [==============================] - 18s 10ms/step - loss: 508.5672 - r_square: -0.4339 - rmse: 22.5479 - val_loss: 486.7619 - val_r_square: -0.3799 - val_rmse: 22.0614\n",
      "Epoch 25/100\n",
      "1712/1712 [==============================] - 18s 10ms/step - loss: 470.3841 - r_square: -0.3262 - rmse: 21.6847 - val_loss: 449.9293 - val_r_square: -0.2754 - val_rmse: 21.2102\n",
      "Epoch 26/100\n",
      "1712/1712 [==============================] - 18s 10ms/step - loss: 434.6874 - r_square: -0.2255 - rmse: 20.8455 - val_loss: 415.5083 - val_r_square: -0.1778 - val_rmse: 20.3826\n",
      "Epoch 27/100\n",
      "1712/1712 [==============================] - 18s 10ms/step - loss: 401.3329 - r_square: -0.1314 - rmse: 20.0296 - val_loss: 383.3585 - val_r_square: -0.0867 - val_rmse: 19.5781\n",
      "Epoch 28/100\n",
      "1712/1712 [==============================] - 18s 10ms/step - loss: 370.1837 - r_square: -0.0436 - rmse: 19.2363 - val_loss: 353.3473 - val_r_square: -0.0016 - val_rmse: 18.7960\n",
      "Epoch 29/100\n",
      "1712/1712 [==============================] - 18s 10ms/step - loss: 341.1114 - r_square: 0.0384 - rmse: 18.4653 - val_loss: 325.3497 - val_r_square: 0.0778 - val_rmse: 18.0359\n",
      "Epoch 30/100\n",
      "1712/1712 [==============================] - 18s 10ms/step - loss: 313.9942 - r_square: 0.1149 - rmse: 17.7159 - val_loss: 299.2477 - val_r_square: 0.1518 - val_rmse: 17.2972\n",
      "Epoch 31/100\n",
      "1712/1712 [==============================] - 18s 10ms/step - loss: 288.7177 - r_square: 0.1862 - rmse: 16.9876 - val_loss: 274.9303 - val_r_square: 0.2207 - val_rmse: 16.5794\n",
      "Epoch 32/100\n",
      "1712/1712 [==============================] - 17s 10ms/step - loss: 265.1741 - r_square: 0.2526 - rmse: 16.2800 - val_loss: 252.2932 - val_r_square: 0.2849 - val_rmse: 15.8820\n",
      "Epoch 33/100\n",
      "1712/1712 [==============================] - 18s 10ms/step - loss: 243.2621 - r_square: 0.3144 - rmse: 15.5926 - val_loss: 231.2381 - val_r_square: 0.3446 - val_rmse: 15.2048\n",
      "Epoch 34/100\n",
      "1712/1712 [==============================] - 18s 10ms/step - loss: 222.8867 - r_square: 0.3718 - rmse: 14.9250 - val_loss: 211.6730 - val_r_square: 0.4001 - val_rmse: 14.5472\n",
      "Epoch 35/100\n",
      "1712/1712 [==============================] - 18s 10ms/step - loss: 203.9584 - r_square: 0.4252 - rmse: 14.2769 - val_loss: 193.5112 - val_r_square: 0.4516 - val_rmse: 13.9089\n",
      "Epoch 36/100\n",
      "1712/1712 [==============================] - 18s 10ms/step - loss: 186.3932 - r_square: 0.4748 - rmse: 13.6479 - val_loss: 176.6713 - val_r_square: 0.4993 - val_rmse: 13.2898\n",
      "Epoch 37/100\n",
      "1712/1712 [==============================] - 18s 10ms/step - loss: 170.1119 - r_square: 0.5207 - rmse: 13.0379 - val_loss: 161.0765 - val_r_square: 0.5435 - val_rmse: 12.6895\n",
      "Epoch 38/100\n",
      "1712/1712 [==============================] - 18s 10ms/step - loss: 155.0400 - r_square: 0.5632 - rmse: 12.4465 - val_loss: 146.6545 - val_r_square: 0.5844 - val_rmse: 12.1080\n",
      "Epoch 39/100\n",
      "1712/1712 [==============================] - 17s 10ms/step - loss: 141.1074 - r_square: 0.6024 - rmse: 11.8737 - val_loss: 133.3370 - val_r_square: 0.6222 - val_rmse: 11.5449\n",
      "Epoch 40/100\n",
      "1712/1712 [==============================] - 18s 10ms/step - loss: 128.2474 - r_square: 0.6387 - rmse: 11.3193 - val_loss: 121.0594 - val_r_square: 0.6570 - val_rmse: 11.0004\n",
      "Epoch 41/100\n",
      "1712/1712 [==============================] - 18s 10ms/step - loss: 116.3971 - r_square: 0.6721 - rmse: 10.7833 - val_loss: 109.7604 - val_r_square: 0.6890 - val_rmse: 10.4742\n",
      "Epoch 42/100\n",
      "1712/1712 [==============================] - 18s 11ms/step - loss: 105.4969 - r_square: 0.7028 - rmse: 10.2655 - val_loss: 99.3816 - val_r_square: 0.7184 - val_rmse: 9.9665\n",
      "Epoch 43/100\n",
      "1712/1712 [==============================] - 18s 10ms/step - loss: 95.4898 - r_square: 0.7310 - rmse: 9.7660 - val_loss: 89.8678 - val_r_square: 0.7454 - val_rmse: 9.4772\n"
     ]
    },
    {
     "name": "stdout",
     "output_type": "stream",
     "text": [
      "Epoch 44/100\n",
      "1712/1712 [==============================] - 18s 10ms/step - loss: 86.3218 - r_square: 0.7569 - rmse: 9.2849 - val_loss: 81.1657 - val_r_square: 0.7701 - val_rmse: 9.0064\n",
      "Epoch 45/100\n",
      "1712/1712 [==============================] - 18s 10ms/step - loss: 77.9411 - r_square: 0.7805 - rmse: 8.8221 - val_loss: 73.2250 - val_r_square: 0.7926 - val_rmse: 8.5542\n",
      "Epoch 46/100\n",
      "1712/1712 [==============================] - 17s 10ms/step - loss: 70.2981 - r_square: 0.8020 - rmse: 8.3779 - val_loss: 65.9971 - val_r_square: 0.8131 - val_rmse: 8.1207\n",
      "Epoch 47/100\n",
      "1712/1712 [==============================] - 18s 10ms/step - loss: 63.3457 - r_square: 0.8216 - rmse: 7.9522 - val_loss: 59.4356 - val_r_square: 0.8317 - val_rmse: 7.7061\n",
      "Epoch 48/100\n",
      "1712/1712 [==============================] - 18s 10ms/step - loss: 57.0382 - r_square: 0.8394 - rmse: 7.5453 - val_loss: 53.4960 - val_r_square: 0.8485 - val_rmse: 7.3105\n",
      "Epoch 49/100\n",
      "1712/1712 [==============================] - 18s 10ms/step - loss: 51.3323 - r_square: 0.8555 - rmse: 7.1573 - val_loss: 48.1355 - val_r_square: 0.8637 - val_rmse: 6.9341\n",
      "Epoch 50/100\n",
      "1712/1712 [==============================] - 17s 10ms/step - loss: 46.1860 - r_square: 0.8700 - rmse: 6.7884 - val_loss: 43.3132 - val_r_square: 0.8773 - val_rmse: 6.5771\n",
      "Epoch 51/100\n",
      "1712/1712 [==============================] - 17s 10ms/step - loss: 41.5594 - r_square: 0.8830 - rmse: 6.4388 - val_loss: 38.9897 - val_r_square: 0.8896 - val_rmse: 6.2397\n",
      "Epoch 52/100\n",
      "1712/1712 [==============================] - 18s 10ms/step - loss: 37.4142 - r_square: 0.8947 - rmse: 6.1085 - val_loss: 35.1275 - val_r_square: 0.9005 - val_rmse: 5.9220\n",
      "Epoch 53/100\n",
      "1712/1712 [==============================] - 18s 10ms/step - loss: 33.7134 - r_square: 0.9051 - rmse: 5.7978 - val_loss: 31.6905 - val_r_square: 0.9103 - val_rmse: 5.6241\n",
      "Epoch 54/100\n",
      "1712/1712 [==============================] - 18s 10ms/step - loss: 30.4220 - r_square: 0.9144 - rmse: 5.5067 - val_loss: 28.6442 - val_r_square: 0.9189 - val_rmse: 5.3462\n",
      "Epoch 55/100\n",
      "1712/1712 [==============================] - 18s 10ms/step - loss: 27.5065 - r_square: 0.9226 - rmse: 5.2354 - val_loss: 25.9559 - val_r_square: 0.9265 - val_rmse: 5.0883\n",
      "Epoch 56/100\n",
      "1712/1712 [==============================] - 18s 10ms/step - loss: 24.9349 - r_square: 0.9298 - rmse: 4.9839 - val_loss: 23.5943 - val_r_square: 0.9332 - val_rmse: 4.8504\n",
      "Epoch 57/100\n",
      "1712/1712 [==============================] - 17s 10ms/step - loss: 22.6768 - r_square: 0.9362 - rmse: 4.7521 - val_loss: 21.5298 - val_r_square: 0.9391 - val_rmse: 4.6324\n",
      "Epoch 58/100\n",
      "1712/1712 [==============================] - 18s 10ms/step - loss: 20.7034 - r_square: 0.9418 - rmse: 4.5398 - val_loss: 19.7342 - val_r_square: 0.9442 - val_rmse: 4.4340\n",
      "Epoch 59/100\n",
      "1712/1712 [==============================] - 18s 10ms/step - loss: 18.9876 - r_square: 0.9466 - rmse: 4.3468 - val_loss: 18.1811 - val_r_square: 0.9486 - val_rmse: 4.2548\n",
      "Epoch 60/100\n",
      "1712/1712 [==============================] - 18s 10ms/step - loss: 17.5035 - r_square: 0.9508 - rmse: 4.1727 - val_loss: 16.8455 - val_r_square: 0.9523 - val_rmse: 4.0943\n",
      "Epoch 61/100\n",
      "1712/1712 [==============================] - 17s 10ms/step - loss: 16.2272 - r_square: 0.9543 - rmse: 4.0169 - val_loss: 15.7040 - val_r_square: 0.9556 - val_rmse: 3.9520\n",
      "Epoch 62/100\n",
      "1712/1712 [==============================] - 18s 10ms/step - loss: 15.1360 - r_square: 0.9574 - rmse: 3.8788 - val_loss: 14.7349 - val_r_square: 0.9583 - val_rmse: 3.8268\n",
      "Epoch 63/100\n",
      "1712/1712 [==============================] - 18s 10ms/step - loss: 14.2090 - r_square: 0.9600 - rmse: 3.7575 - val_loss: 13.9177 - val_r_square: 0.9606 - val_rmse: 3.7180\n",
      "Epoch 64/100\n",
      "1712/1712 [==============================] - 18s 10ms/step - loss: 13.4266 - r_square: 0.9622 - rmse: 3.6519 - val_loss: 13.2339 - val_r_square: 0.9626 - val_rmse: 3.6243\n",
      "Epoch 65/100\n",
      "1712/1712 [==============================] - 18s 10ms/step - loss: 12.7709 - r_square: 0.9641 - rmse: 3.5611 - val_loss: 12.6662 - val_r_square: 0.9642 - val_rmse: 3.5446\n",
      "Epoch 66/100\n",
      "1712/1712 [==============================] - 17s 10ms/step - loss: 12.2254 - r_square: 0.9656 - rmse: 3.4837 - val_loss: 12.1989 - val_r_square: 0.9655 - val_rmse: 3.4775\n",
      "Epoch 67/100\n",
      "1712/1712 [==============================] - 17s 10ms/step - loss: 11.7752 - r_square: 0.9669 - rmse: 3.4185 - val_loss: 11.8177 - val_r_square: 0.9666 - val_rmse: 3.4218\n",
      "Epoch 68/100\n",
      "1712/1712 [==============================] - 19s 11ms/step - loss: 11.4065 - r_square: 0.9679 - rmse: 3.3642 - val_loss: 11.5098 - val_r_square: 0.9674 - val_rmse: 3.3760\n",
      "Epoch 69/100\n",
      "1712/1712 [==============================] - 19s 11ms/step - loss: 11.1073 - r_square: 0.9687 - rmse: 3.3195 - val_loss: 11.2636 - val_r_square: 0.9681 - val_rmse: 3.3390\n",
      "Epoch 70/100\n",
      "1712/1712 [==============================] - 19s 11ms/step - loss: 10.8666 - r_square: 0.9694 - rmse: 3.2831 - val_loss: 11.0690 - val_r_square: 0.9687 - val_rmse: 3.3093\n",
      "Epoch 71/100\n",
      "1712/1712 [==============================] - 18s 10ms/step - loss: 10.6749 - r_square: 0.9699 - rmse: 3.2538 - val_loss: 10.9170 - val_r_square: 0.9691 - val_rmse: 3.2859\n",
      "Epoch 72/100\n",
      "1712/1712 [==============================] - 18s 10ms/step - loss: 10.5236 - r_square: 0.9704 - rmse: 3.2305 - val_loss: 10.8000 - val_r_square: 0.9694 - val_rmse: 3.2678\n",
      "Epoch 73/100\n",
      "1712/1712 [==============================] - 17s 10ms/step - loss: 10.4055 - r_square: 0.9707 - rmse: 3.2122 - val_loss: 10.7111 - val_r_square: 0.9697 - val_rmse: 3.2539\n",
      "Epoch 74/100\n",
      "1712/1712 [==============================] - 17s 10ms/step - loss: 10.3143 - r_square: 0.9709 - rmse: 3.1980 - val_loss: 10.6446 - val_r_square: 0.9699 - val_rmse: 3.2434\n",
      "Epoch 75/100\n",
      "1712/1712 [==============================] - 18s 10ms/step - loss: 10.2447 - r_square: 0.9711 - rmse: 3.1871 - val_loss: 10.5959 - val_r_square: 0.9700 - val_rmse: 3.2357\n",
      "Epoch 76/100\n",
      "1712/1712 [==============================] - 18s 10ms/step - loss: 10.1923 - r_square: 0.9713 - rmse: 3.1789 - val_loss: 10.5609 - val_r_square: 0.9701 - val_rmse: 3.2301\n",
      "Epoch 77/100\n",
      "1712/1712 [==============================] - 18s 10ms/step - loss: 10.1532 - r_square: 0.9714 - rmse: 3.1728 - val_loss: 10.5364 - val_r_square: 0.9702 - val_rmse: 3.2262\n",
      "Epoch 78/100\n",
      "1712/1712 [==============================] - 19s 11ms/step - loss: 10.1245 - r_square: 0.9715 - rmse: 3.1683 - val_loss: 10.5197 - val_r_square: 0.9702 - val_rmse: 3.2235\n",
      "Epoch 79/100\n",
      "1712/1712 [==============================] - 18s 11ms/step - loss: 10.1037 - r_square: 0.9715 - rmse: 3.1650 - val_loss: 10.5088 - val_r_square: 0.9703 - val_rmse: 3.2217\n",
      "Epoch 80/100\n",
      "1712/1712 [==============================] - 19s 11ms/step - loss: 10.0888 - r_square: 0.9716 - rmse: 3.1627 - val_loss: 10.5021 - val_r_square: 0.9703 - val_rmse: 3.2205\n",
      "Epoch 81/100\n",
      "1712/1712 [==============================] - 18s 11ms/step - loss: 10.0784 - r_square: 0.9716 - rmse: 3.1610 - val_loss: 10.4982 - val_r_square: 0.9703 - val_rmse: 3.2198\n",
      "Epoch 82/100\n",
      "1712/1712 [==============================] - 21s 12ms/step - loss: 10.0712 - r_square: 0.9716 - rmse: 3.1599 - val_loss: 10.4963 - val_r_square: 0.9703 - val_rmse: 3.2195\n",
      "Epoch 83/100\n",
      "1712/1712 [==============================] - 19s 11ms/step - loss: 10.0664 - r_square: 0.9716 - rmse: 3.1591 - val_loss: 10.4957 - val_r_square: 0.9703 - val_rmse: 3.2193\n",
      "Epoch 84/100\n",
      "1712/1712 [==============================] - 19s 11ms/step - loss: 10.0632 - r_square: 0.9716 - rmse: 3.1586 - val_loss: 10.4958 - val_r_square: 0.9703 - val_rmse: 3.2193\n",
      "Epoch 85/100\n",
      "1712/1712 [==============================] - 19s 11ms/step - loss: 10.0611 - r_square: 0.9716 - rmse: 3.1583 - val_loss: 10.4963 - val_r_square: 0.9703 - val_rmse: 3.2194\n",
      "Epoch 86/100\n",
      "1712/1712 [==============================] - 19s 11ms/step - loss: 10.0598 - r_square: 0.9716 - rmse: 3.1581 - val_loss: 10.4971 - val_r_square: 0.9703 - val_rmse: 3.2194\n",
      "Epoch 87/100\n",
      "1712/1712 [==============================] - 19s 11ms/step - loss: 10.0590 - r_square: 0.9716 - rmse: 3.1580 - val_loss: 10.4979 - val_r_square: 0.9703 - val_rmse: 3.2196\n",
      "Epoch 88/100\n"
     ]
    },
    {
     "name": "stdout",
     "output_type": "stream",
     "text": [
      "1712/1712 [==============================] - 19s 11ms/step - loss: 10.0586 - r_square: 0.9716 - rmse: 3.1579 - val_loss: 10.4987 - val_r_square: 0.9703 - val_rmse: 3.2197\n",
      "Epoch 89/100\n",
      "1712/1712 [==============================] - 19s 11ms/step - loss: 10.0584 - r_square: 0.9716 - rmse: 3.1579 - val_loss: 10.4994 - val_r_square: 0.9703 - val_rmse: 3.2198\n",
      "Epoch 90/100\n",
      "1712/1712 [==============================] - 19s 11ms/step - loss: 10.0584 - r_square: 0.9716 - rmse: 3.1579 - val_loss: 10.5000 - val_r_square: 0.9703 - val_rmse: 3.2198\n",
      "Epoch 91/100\n",
      "1712/1712 [==============================] - 19s 11ms/step - loss: 10.0584 - r_square: 0.9716 - rmse: 3.1579 - val_loss: 10.5005 - val_r_square: 0.9703 - val_rmse: 3.2199\n",
      "Epoch 92/100\n",
      "1712/1712 [==============================] - 19s 11ms/step - loss: 10.0585 - r_square: 0.9716 - rmse: 3.1579 - val_loss: 10.5009 - val_r_square: 0.9703 - val_rmse: 3.2200\n",
      "Epoch 93/100\n",
      "1712/1712 [==============================] - 19s 11ms/step - loss: 10.0586 - r_square: 0.9716 - rmse: 3.1579 - val_loss: 10.5012 - val_r_square: 0.9703 - val_rmse: 3.2200\n",
      "Epoch 94/100\n",
      "1712/1712 [==============================] - 19s 11ms/step - loss: 10.0587 - r_square: 0.9716 - rmse: 3.1579 - val_loss: 10.5015 - val_r_square: 0.9703 - val_rmse: 3.2200\n",
      "Epoch 95/100\n",
      "1712/1712 [==============================] - 19s 11ms/step - loss: 10.0589 - r_square: 0.9716 - rmse: 3.1579 - val_loss: 10.5017 - val_r_square: 0.9703 - val_rmse: 3.2201\n",
      "Epoch 96/100\n",
      "1712/1712 [==============================] - 19s 11ms/step - loss: 10.0590 - r_square: 0.9716 - rmse: 3.1580 - val_loss: 10.5019 - val_r_square: 0.9703 - val_rmse: 3.2201\n",
      "Epoch 97/100\n",
      "1712/1712 [==============================] - 19s 11ms/step - loss: 10.0591 - r_square: 0.9716 - rmse: 3.1580 - val_loss: 10.5020 - val_r_square: 0.9703 - val_rmse: 3.2201\n",
      "Epoch 98/100\n",
      "1712/1712 [==============================] - 19s 11ms/step - loss: 10.0593 - r_square: 0.9716 - rmse: 3.1580 - val_loss: 10.5021 - val_r_square: 0.9703 - val_rmse: 3.2201\n",
      "Epoch 99/100\n",
      "1712/1712 [==============================] - 19s 11ms/step - loss: 10.0594 - r_square: 0.9716 - rmse: 3.1580 - val_loss: 10.5022 - val_r_square: 0.9703 - val_rmse: 3.2202\n",
      "Epoch 100/100\n",
      "1712/1712 [==============================] - 19s 11ms/step - loss: 10.0596 - r_square: 0.9716 - rmse: 3.1581 - val_loss: 10.5023 - val_r_square: 0.9703 - val_rmse: 3.2202\n",
      "The model took 1800.85 seconds to run\n"
     ]
    }
   ],
   "source": [
    "# Sam's CNN model\n",
    "# print(X.shape)\n",
    "# Feed in shape = (2140, 96, 96, 1)\n",
    "start_time=time.time()\n",
    "\n",
    "model2 = Sequential()\n",
    "\n",
    "model2.add(Conv2D(32, kernel_size = (3,3), strides=(1,1),\n",
    "                  input_shape=(96,96,1), activation = 'relu'))\n",
    "model2.add(MaxPool2D(pool_size=(2, 2)))\n",
    "\n",
    "model2.add(Conv2D(64, kernel_size = (3,3), activation = 'relu'))\n",
    "model2.add(MaxPool2D(pool_size=(2, 2)))\n",
    "\n",
    "model2.add(Conv2D(128, kernel_size = (3,3), activation = 'relu'))\n",
    "model2.add(MaxPool2D(pool_size=(2, 2)))\n",
    "\n",
    "model2.add(Flatten())\n",
    "model2.add(Dense(100))\n",
    "model2.add(Activation('relu'))\n",
    "model2.add(Dense(100))\n",
    "model2.add(Activation('softmax'))\n",
    "model2.add(Dense(30))\n",
    "\n",
    "#sgd = optimizers.SGD(lr=0.01, momentum=0.9, nesterov=True)\n",
    "adam = optimizers.Adam(lr=0.01, beta_1=0.9, beta_2=0.999, epsilon=None, decay=0.0, amsgrad=False)\n",
    "model2.compile(loss='mse', optimizer=adam,  metrics=[r_square, rmse])\n",
    "ext_model = model2.fit(train_data, train_labels, validation_data=[val_data, val_labels], shuffle=False, epochs=epochs, batch_size=20)\n",
    "\n",
    "total_time=time.time()-start_time\n",
    "print(\"The model took {} seconds to run\".format(round(total_time,3)))"
   ]
  },
  {
   "cell_type": "code",
   "execution_count": 58,
   "metadata": {},
   "outputs": [
    {
     "name": "stdout",
     "output_type": "stream",
     "text": [
      "Below are the model performance plots after 100 epoches:\n"
     ]
    },
    {
     "data": {
      "image/png": "[encoded data removed]",
      "text/plain": [
       "<Figure size 432x288 with 1 Axes>"
      ]
     },
     "metadata": {
      "needs_background": "light"
     },
     "output_type": "display_data"
    },
    {
     "data": {
      "image/png": "[encoded data removed]",
      "text/plain": [
       "<Figure size 432x288 with 1 Axes>"
      ]
     },
     "metadata": {
      "needs_background": "light"
     },
     "output_type": "display_data"
    },
    {
     "name": "stdout",
     "output_type": "stream",
     "text": [
      "Validation RMSE: 3.220166950582344\n",
      "Performance increase relative to baseline: 43.06%\n"
     ]
    }
   ],
   "source": [
    "model_evaluation(ext_model, history)"
   ]
  },
  {
   "cell_type": "code",
   "execution_count": 65,
   "metadata": {},
   "outputs": [
    {
     "name": "stdout",
     "output_type": "stream",
     "text": [
      "Train on 1712 samples, validate on 428 samples\n",
      "Epoch 1/100\n",
      "1712/1712 [==============================] - 48s 28ms/step - loss: 2535.4882 - r_square: -6.1518 - rmse: 50.3505 - val_loss: 2450.6770 - val_r_square: -5.9488 - val_rmse: 49.5036\n",
      "Epoch 2/100\n",
      "1712/1712 [==============================] - 49s 28ms/step - loss: 2378.5178 - r_square: -5.7090 - rmse: 48.7670 - val_loss: 2298.6737 - val_r_square: -5.5178 - val_rmse: 47.9438\n",
      "Epoch 3/100\n",
      "1712/1712 [==============================] - 48s 28ms/step - loss: 2230.7716 - r_square: -5.2921 - rmse: 47.2280 - val_loss: 2155.2890 - val_r_square: -5.1112 - val_rmse: 46.4243\n",
      "Epoch 4/100\n",
      "1712/1712 [==============================] - 49s 29ms/step - loss: 2091.3122 - r_square: -4.8987 - rmse: 45.7278 - val_loss: 2019.9124 - val_r_square: -4.7273 - val_rmse: 44.9427\n",
      "Epoch 5/100\n",
      "1712/1712 [==============================] - 50s 29ms/step - loss: 1959.5932 - r_square: -4.5271 - rmse: 44.2642 - val_loss: 1892.0316 - val_r_square: -4.3647 - val_rmse: 43.4967\n",
      "Epoch 6/100\n",
      "1712/1712 [==============================] - 50s 29ms/step - loss: 1835.2077 - r_square: -4.1762 - rmse: 42.8363 - val_loss: 1771.3121 - val_r_square: -4.0224 - val_rmse: 42.0861\n",
      "Epoch 7/100\n",
      "1712/1712 [==============================] - 50s 29ms/step - loss: 1717.7973 - r_square: -3.8450 - rmse: 41.4432 - val_loss: 1657.3844 - val_r_square: -3.6993 - val_rmse: 40.7101\n",
      "Epoch 8/100\n",
      "1712/1712 [==============================] - 50s 29ms/step - loss: 1607.0149 - r_square: -3.5325 - rmse: 40.0845 - val_loss: 1549.9166 - val_r_square: -3.3945 - val_rmse: 39.3681\n",
      "Epoch 9/100\n",
      "1712/1712 [==============================] - 50s 29ms/step - loss: 1502.5367 - r_square: -3.2377 - rmse: 38.7595 - val_loss: 1448.5910 - val_r_square: -3.1072 - val_rmse: 38.0595\n",
      "Epoch 10/100\n",
      "1712/1712 [==============================] - 50s 29ms/step - loss: 1404.0492 - r_square: -2.9599 - rmse: 37.4675 - val_loss: 1353.1073 - val_r_square: -2.8365 - val_rmse: 36.7837\n",
      "Epoch 11/100\n",
      "1712/1712 [==============================] - 49s 29ms/step - loss: 1311.2564 - r_square: -2.6981 - rmse: 36.2082 - val_loss: 1263.1730 - val_r_square: -2.5814 - val_rmse: 35.5402\n",
      "Epoch 12/100\n",
      "1712/1712 [==============================] - 49s 29ms/step - loss: 1223.8775 - r_square: -2.4516 - rmse: 34.9808 - val_loss: 1178.5103 - val_r_square: -2.3414 - val_rmse: 34.3285\n",
      "Epoch 13/100\n",
      "1712/1712 [==============================] - 48s 28ms/step - loss: 1141.6342 - r_square: -2.2196 - rmse: 33.7849 - val_loss: 1098.8484 - val_r_square: -2.1155 - val_rmse: 33.1479\n",
      "Epoch 14/100\n",
      "1712/1712 [==============================] - 47s 28ms/step - loss: 1064.2676 - r_square: -2.0014 - rmse: 32.6199 - val_loss: 1023.9355 - val_r_square: -1.9030 - val_rmse: 31.9980\n",
      "Epoch 15/100\n",
      "1712/1712 [==============================] - 48s 28ms/step - loss: 991.5262 - r_square: -1.7962 - rmse: 31.4853 - val_loss: 953.5242 - val_r_square: -1.7034 - val_rmse: 30.8781\n",
      "Epoch 16/100\n",
      "1712/1712 [==============================] - 46s 27ms/step - loss: 923.1704 - r_square: -1.6034 - rmse: 30.3805 - val_loss: 887.3807 - val_r_square: -1.5158 - val_rmse: 29.7879\n",
      "Epoch 17/100\n",
      "1712/1712 [==============================] - 48s 28ms/step - loss: 858.9708 - r_square: -1.4223 - rmse: 29.3050 - val_loss: 825.2790 - val_r_square: -1.3397 - val_rmse: 28.7266\n",
      "Epoch 18/100\n",
      "1712/1712 [==============================] - 49s 29ms/step - loss: 798.7060 - r_square: -1.2523 - rmse: 28.2581 - val_loss: 767.0037 - val_r_square: -1.1745 - val_rmse: 27.6937\n",
      "Epoch 19/100\n",
      "1712/1712 [==============================] - 48s 28ms/step - loss: 742.1642 - r_square: -1.0928 - rmse: 27.2394 - val_loss: 712.3469 - val_r_square: -1.0195 - val_rmse: 26.6887\n",
      "Epoch 20/100\n",
      "1712/1712 [==============================] - 46s 27ms/step - loss: 689.1432 - r_square: -0.9432 - rmse: 26.2482 - val_loss: 661.1116 - val_r_square: -0.8742 - val_rmse: 25.7109\n",
      "Epoch 21/100\n",
      "1712/1712 [==============================] - 45s 26ms/step - loss: 639.4507 - r_square: -0.8030 - rmse: 25.2840 - val_loss: 613.1092 - val_r_square: -0.7381 - val_rmse: 24.7598\n",
      "Epoch 22/100\n",
      "1712/1712 [==============================] - 45s 26ms/step - loss: 592.9000 - r_square: -0.6717 - rmse: 24.3461 - val_loss: 568.1572 - val_r_square: -0.6107 - val_rmse: 23.8348\n",
      "Epoch 23/100\n",
      "1712/1712 [==============================] - 45s 26ms/step - loss: 549.3150 - r_square: -0.5488 - rmse: 23.4340 - val_loss: 526.0839 - val_r_square: -0.4914 - val_rmse: 22.9352\n",
      "Epoch 24/100\n",
      "1712/1712 [==============================] - 45s 26ms/step - loss: 508.5273 - r_square: -0.4337 - rmse: 22.5470 - val_loss: 486.7249 - val_r_square: -0.3798 - val_rmse: 22.0605\n",
      "Epoch 25/100\n",
      "1712/1712 [==============================] - 45s 26ms/step - loss: 470.3763 - r_square: -0.3261 - rmse: 21.6846 - val_loss: 449.9238 - val_r_square: -0.2754 - val_rmse: 21.2100\n",
      "Epoch 26/100\n",
      "1712/1712 [==============================] - 45s 26ms/step - loss: 434.7099 - r_square: -0.2255 - rmse: 20.8460 - val_loss: 415.5324 - val_r_square: -0.1779 - val_rmse: 20.3832\n",
      "Epoch 27/100\n",
      "1712/1712 [==============================] - 45s 26ms/step - loss: 401.3837 - r_square: -0.1315 - rmse: 20.0308 - val_loss: 383.4104 - val_r_square: -0.0868 - val_rmse: 19.5794\n",
      "Epoch 28/100\n",
      "1712/1712 [==============================] - 45s 26ms/step - loss: 370.2612 - r_square: -0.0438 - rmse: 19.2384 - val_loss: 353.4250 - val_r_square: -0.0018 - val_rmse: 18.7981\n",
      "Epoch 29/100\n",
      "1712/1712 [==============================] - 45s 26ms/step - loss: 341.2129 - r_square: 0.0382 - rmse: 18.4681 - val_loss: 325.4505 - val_r_square: 0.0775 - val_rmse: 18.0387\n",
      "Epoch 30/100\n",
      "1712/1712 [==============================] - 45s 26ms/step - loss: 314.1174 - r_square: 0.1146 - rmse: 17.7194 - val_loss: 299.3693 - val_r_square: 0.1515 - val_rmse: 17.3007\n",
      "Epoch 31/100\n",
      "1712/1712 [==============================] - 45s 26ms/step - loss: 288.8600 - r_square: 0.1858 - rmse: 16.9918 - val_loss: 275.0700 - val_r_square: 0.2204 - val_rmse: 16.5836\n",
      "Epoch 32/100\n",
      "1712/1712 [==============================] - 45s 26ms/step - loss: 265.3329 - r_square: 0.2522 - rmse: 16.2849 - val_loss: 252.4482 - val_r_square: 0.2845 - val_rmse: 15.8869\n",
      "Epoch 33/100\n",
      "1712/1712 [==============================] - 45s 26ms/step - loss: 243.4348 - r_square: 0.3139 - rmse: 15.5981 - val_loss: 231.4061 - val_r_square: 0.3441 - val_rmse: 15.2103\n",
      "Epoch 34/100\n",
      "1712/1712 [==============================] - 45s 26ms/step - loss: 223.0709 - r_square: 0.3713 - rmse: 14.9312 - val_loss: 211.8515 - val_r_square: 0.3996 - val_rmse: 14.5533\n",
      "Epoch 35/100\n",
      "1712/1712 [==============================] - 45s 26ms/step - loss: 204.1514 - r_square: 0.4247 - rmse: 14.2836 - val_loss: 193.6976 - val_r_square: 0.4511 - val_rmse: 13.9156\n",
      "Epoch 36/100\n",
      "1712/1712 [==============================] - 45s 26ms/step - loss: 186.5927 - r_square: 0.4742 - rmse: 13.6552 - val_loss: 176.8634 - val_r_square: 0.4988 - val_rmse: 13.2970\n",
      "Epoch 37/100\n",
      "1712/1712 [==============================] - 45s 26ms/step - loss: 170.3157 - r_square: 0.5201 - rmse: 13.0457 - val_loss: 161.2720 - val_r_square: 0.5430 - val_rmse: 12.6972\n",
      "Epoch 38/100\n",
      "1712/1712 [==============================] - 45s 26ms/step - loss: 155.2461 - r_square: 0.5626 - rmse: 12.4548 - val_loss: 146.8515 - val_r_square: 0.5839 - val_rmse: 12.1161\n",
      "Epoch 39/100\n",
      "1712/1712 [==============================] - 45s 26ms/step - loss: 141.3137 - r_square: 0.6019 - rmse: 11.8824 - val_loss: 133.5337 - val_r_square: 0.6216 - val_rmse: 11.5535\n",
      "Epoch 40/100\n",
      "1712/1712 [==============================] - 45s 26ms/step - loss: 128.4523 - r_square: 0.6381 - rmse: 11.3284 - val_loss: 121.2542 - val_r_square: 0.6564 - val_rmse: 11.0092\n",
      "Epoch 41/100\n",
      "1712/1712 [==============================] - 44s 26ms/step - loss: 116.5992 - r_square: 0.6715 - rmse: 10.7927 - val_loss: 109.9519 - val_r_square: 0.6885 - val_rmse: 10.4834\n",
      "Epoch 42/100\n",
      "1712/1712 [==============================] - 45s 26ms/step - loss: 105.6948 - r_square: 0.7023 - rmse: 10.2752 - val_loss: 99.5686 - val_r_square: 0.7179 - val_rmse: 9.9759\n",
      "Epoch 43/100\n",
      "1712/1712 [==============================] - 45s 26ms/step - loss: 95.6825 - r_square: 0.7305 - rmse: 9.7759 - val_loss: 90.0492 - val_r_square: 0.7449 - val_rmse: 9.4867\n"
     ]
    },
    {
     "name": "stdout",
     "output_type": "stream",
     "text": [
      "Epoch 44/100\n",
      "1712/1712 [==============================] - 44s 26ms/step - loss: 86.5082 - r_square: 0.7564 - rmse: 9.2949 - val_loss: 81.3408 - val_r_square: 0.7696 - val_rmse: 9.0161\n",
      "Epoch 45/100\n",
      "1712/1712 [==============================] - 45s 26ms/step - loss: 78.1204 - r_square: 0.7800 - rmse: 8.8323 - val_loss: 73.3929 - val_r_square: 0.7921 - val_rmse: 8.5640\n",
      "Epoch 46/100\n",
      "1712/1712 [==============================] - 45s 26ms/step - loss: 70.4698 - r_square: 0.8016 - rmse: 8.3881 - val_loss: 66.1573 - val_r_square: 0.8126 - val_rmse: 8.1305\n",
      "Epoch 47/100\n",
      "1712/1712 [==============================] - 45s 26ms/step - loss: 63.5092 - r_square: 0.8212 - rmse: 7.9625 - val_loss: 59.5878 - val_r_square: 0.8312 - val_rmse: 7.7159\n",
      "Epoch 48/100\n",
      "1712/1712 [==============================] - 44s 26ms/step - loss: 57.1932 - r_square: 0.8390 - rmse: 7.5556 - val_loss: 53.6397 - val_r_square: 0.8481 - val_rmse: 7.3203\n",
      "Epoch 49/100\n",
      "1712/1712 [==============================] - 44s 26ms/step - loss: 51.4785 - r_square: 0.8551 - rmse: 7.1676 - val_loss: 48.2706 - val_r_square: 0.8633 - val_rmse: 6.9439\n",
      "Epoch 50/100\n",
      "1712/1712 [==============================] - 45s 26ms/step - loss: 46.3233 - r_square: 0.8696 - rmse: 6.7985 - val_loss: 43.4395 - val_r_square: 0.8770 - val_rmse: 6.5867\n",
      "Epoch 51/100\n",
      "1712/1712 [==============================] - 44s 26ms/step - loss: 41.6877 - r_square: 0.8827 - rmse: 6.4487 - val_loss: 39.1073 - val_r_square: 0.8893 - val_rmse: 6.2491\n",
      "Epoch 52/100\n",
      "1712/1712 [==============================] - 44s 26ms/step - loss: 37.5334 - r_square: 0.8944 - rmse: 6.1183 - val_loss: 35.2363 - val_r_square: 0.9002 - val_rmse: 5.9312\n",
      "Epoch 53/100\n",
      "1712/1712 [==============================] - 45s 26ms/step - loss: 33.8237 - r_square: 0.9048 - rmse: 5.8073 - val_loss: 31.7907 - val_r_square: 0.9100 - val_rmse: 5.6330\n",
      "Epoch 54/100\n",
      "1712/1712 [==============================] - 44s 26ms/step - loss: 30.5236 - r_square: 0.9141 - rmse: 5.5160 - val_loss: 28.7360 - val_r_square: 0.9187 - val_rmse: 5.3548\n",
      "Epoch 55/100\n",
      "1712/1712 [==============================] - 45s 26ms/step - loss: 27.5995 - r_square: 0.9223 - rmse: 5.2443 - val_loss: 26.0395 - val_r_square: 0.9263 - val_rmse: 5.0966\n",
      "Epoch 56/100\n",
      "1712/1712 [==============================] - 44s 26ms/step - loss: 25.0195 - r_square: 0.9296 - rmse: 4.9924 - val_loss: 23.6700 - val_r_square: 0.9330 - val_rmse: 4.8583\n",
      "Epoch 57/100\n",
      "1712/1712 [==============================] - 45s 26ms/step - loss: 22.7535 - r_square: 0.9360 - rmse: 4.7601 - val_loss: 21.5978 - val_r_square: 0.9389 - val_rmse: 4.6398\n",
      "Epoch 58/100\n",
      "1712/1712 [==============================] - 44s 26ms/step - loss: 20.7725 - r_square: 0.9416 - rmse: 4.5474 - val_loss: 19.7951 - val_r_square: 0.9440 - val_rmse: 4.4409\n",
      "Epoch 59/100\n",
      "1712/1712 [==============================] - 45s 26ms/step - loss: 19.0494 - r_square: 0.9464 - rmse: 4.3539 - val_loss: 18.2352 - val_r_square: 0.9484 - val_rmse: 4.2612\n",
      "Epoch 60/100\n",
      "1712/1712 [==============================] - 45s 26ms/step - loss: 17.5585 - r_square: 0.9506 - rmse: 4.1793 - val_loss: 16.8932 - val_r_square: 0.9522 - val_rmse: 4.1002\n",
      "Epoch 61/100\n",
      "1712/1712 [==============================] - 2283s 1s/step - loss: 16.2758 - r_square: 0.9542 - rmse: 4.0230 - val_loss: 15.7458 - val_r_square: 0.9554 - val_rmse: 3.9573\n",
      "Epoch 62/100\n",
      "1712/1712 [==============================] - 46s 27ms/step - loss: 15.1787 - r_square: 0.9573 - rmse: 3.8843 - val_loss: 14.7712 - val_r_square: 0.9582 - val_rmse: 3.8316\n",
      "Epoch 63/100\n",
      "1712/1712 [==============================] - 46s 27ms/step - loss: 14.2461 - r_square: 0.9599 - rmse: 3.7624 - val_loss: 13.9490 - val_r_square: 0.9605 - val_rmse: 3.7223\n",
      "Epoch 64/100\n",
      "1712/1712 [==============================] - 47s 28ms/step - loss: 13.4587 - r_square: 0.9621 - rmse: 3.6563 - val_loss: 13.2606 - val_r_square: 0.9625 - val_rmse: 3.6281\n",
      "Epoch 65/100\n",
      "1712/1712 [==============================] - 48s 28ms/step - loss: 12.7985 - r_square: 0.9640 - rmse: 3.5650 - val_loss: 12.6888 - val_r_square: 0.9641 - val_rmse: 3.5478\n",
      "Epoch 66/100\n",
      "1712/1712 [==============================] - 49s 28ms/step - loss: 12.2489 - r_square: 0.9655 - rmse: 3.4871 - val_loss: 12.2178 - val_r_square: 0.9654 - val_rmse: 3.4803\n",
      "Epoch 67/100\n",
      "1712/1712 [==============================] - 49s 28ms/step - loss: 11.7950 - r_square: 0.9668 - rmse: 3.4214 - val_loss: 11.8334 - val_r_square: 0.9665 - val_rmse: 3.4241\n",
      "Epoch 68/100\n",
      "1712/1712 [==============================] - 49s 28ms/step - loss: 11.4231 - r_square: 0.9678 - rmse: 3.3667 - val_loss: 11.5226 - val_r_square: 0.9674 - val_rmse: 3.3780\n",
      "Epoch 69/100\n",
      "1712/1712 [==============================] - 48s 28ms/step - loss: 11.1210 - r_square: 0.9687 - rmse: 3.3216 - val_loss: 11.2740 - val_r_square: 0.9681 - val_rmse: 3.3405\n",
      "Epoch 70/100\n",
      "1712/1712 [==============================] - 48s 28ms/step - loss: 10.8779 - r_square: 0.9694 - rmse: 3.2848 - val_loss: 11.0773 - val_r_square: 0.9687 - val_rmse: 3.3106\n",
      "Epoch 71/100\n",
      "1712/1712 [==============================] - 48s 28ms/step - loss: 10.6840 - r_square: 0.9699 - rmse: 3.2552 - val_loss: 10.9236 - val_r_square: 0.9691 - val_rmse: 3.2869\n",
      "Epoch 72/100\n",
      "1712/1712 [==============================] - 49s 29ms/step - loss: 10.5309 - r_square: 0.9703 - rmse: 3.2316 - val_loss: 10.8050 - val_r_square: 0.9694 - val_rmse: 3.2686\n",
      "Epoch 73/100\n",
      "1712/1712 [==============================] - 48s 28ms/step - loss: 10.4113 - r_square: 0.9707 - rmse: 3.2131 - val_loss: 10.7149 - val_r_square: 0.9697 - val_rmse: 3.2545\n",
      "Epoch 74/100\n",
      "1712/1712 [==============================] - 49s 29ms/step - loss: 10.3189 - r_square: 0.9709 - rmse: 3.1987 - val_loss: 10.6475 - val_r_square: 0.9699 - val_rmse: 3.2439\n",
      "Epoch 75/100\n",
      "1712/1712 [==============================] - 48s 28ms/step - loss: 10.2483 - r_square: 0.9711 - rmse: 3.1877 - val_loss: 10.5980 - val_r_square: 0.9700 - val_rmse: 3.2360\n",
      "Epoch 76/100\n",
      "1712/1712 [==============================] - 48s 28ms/step - loss: 10.1950 - r_square: 0.9713 - rmse: 3.1793 - val_loss: 10.5624 - val_r_square: 0.9701 - val_rmse: 3.2303\n",
      "Epoch 77/100\n",
      "1712/1712 [==============================] - 48s 28ms/step - loss: 10.1552 - r_square: 0.9714 - rmse: 3.1731 - val_loss: 10.5374 - val_r_square: 0.9702 - val_rmse: 3.2263\n",
      "Epoch 78/100\n",
      "1712/1712 [==============================] - 48s 28ms/step - loss: 10.1260 - r_square: 0.9715 - rmse: 3.1685 - val_loss: 10.5204 - val_r_square: 0.9702 - val_rmse: 3.2236\n",
      "Epoch 79/100\n",
      "1712/1712 [==============================] - 49s 28ms/step - loss: 10.1048 - r_square: 0.9715 - rmse: 3.1652 - val_loss: 10.5092 - val_r_square: 0.9703 - val_rmse: 3.2217\n",
      "Epoch 80/100\n",
      "1712/1712 [==============================] - 49s 28ms/step - loss: 10.0897 - r_square: 0.9716 - rmse: 3.1628 - val_loss: 10.5023 - val_r_square: 0.9703 - val_rmse: 3.2206\n",
      "Epoch 81/100\n",
      "1712/1712 [==============================] - 49s 28ms/step - loss: 10.0790 - r_square: 0.9716 - rmse: 3.1611 - val_loss: 10.4983 - val_r_square: 0.9703 - val_rmse: 3.2199\n",
      "Epoch 82/100\n",
      "1712/1712 [==============================] - 49s 28ms/step - loss: 10.0716 - r_square: 0.9716 - rmse: 3.1599 - val_loss: 10.4963 - val_r_square: 0.9703 - val_rmse: 3.2195\n",
      "Epoch 83/100\n",
      "1712/1712 [==============================] - 48s 28ms/step - loss: 10.0667 - r_square: 0.9716 - rmse: 3.1592 - val_loss: 10.4956 - val_r_square: 0.9703 - val_rmse: 3.2193\n",
      "Epoch 84/100\n",
      "1712/1712 [==============================] - 49s 29ms/step - loss: 10.0633 - r_square: 0.9716 - rmse: 3.1586 - val_loss: 10.4957 - val_r_square: 0.9703 - val_rmse: 3.2193\n",
      "Epoch 85/100\n",
      "1712/1712 [==============================] - 48s 28ms/step - loss: 10.0612 - r_square: 0.9716 - rmse: 3.1583 - val_loss: 10.4962 - val_r_square: 0.9703 - val_rmse: 3.2193\n",
      "Epoch 86/100\n",
      "1712/1712 [==============================] - 49s 29ms/step - loss: 10.0599 - r_square: 0.9716 - rmse: 3.1581 - val_loss: 10.4970 - val_r_square: 0.9703 - val_rmse: 3.2194\n",
      "Epoch 87/100\n",
      "1712/1712 [==============================] - 48s 28ms/step - loss: 10.0591 - r_square: 0.9716 - rmse: 3.1580 - val_loss: 10.4978 - val_r_square: 0.9703 - val_rmse: 3.2195\n",
      "Epoch 88/100\n"
     ]
    },
    {
     "name": "stdout",
     "output_type": "stream",
     "text": [
      "1712/1712 [==============================] - 48s 28ms/step - loss: 10.0586 - r_square: 0.9716 - rmse: 3.1579 - val_loss: 10.4986 - val_r_square: 0.9703 - val_rmse: 3.2196\n",
      "Epoch 89/100\n",
      "1712/1712 [==============================] - 49s 29ms/step - loss: 10.0584 - r_square: 0.9716 - rmse: 3.1579 - val_loss: 10.4993 - val_r_square: 0.9703 - val_rmse: 3.2197\n",
      "Epoch 90/100\n",
      "1712/1712 [==============================] - 48s 28ms/step - loss: 10.0584 - r_square: 0.9716 - rmse: 3.1579 - val_loss: 10.4999 - val_r_square: 0.9703 - val_rmse: 3.2198\n",
      "Epoch 91/100\n",
      "1712/1712 [==============================] - 45s 27ms/step - loss: 10.0584 - r_square: 0.9716 - rmse: 3.1579 - val_loss: 10.5004 - val_r_square: 0.9703 - val_rmse: 3.2199\n",
      "Epoch 92/100\n",
      "1712/1712 [==============================] - 48s 28ms/step - loss: 10.0585 - r_square: 0.9716 - rmse: 3.1579 - val_loss: 10.5009 - val_r_square: 0.9703 - val_rmse: 3.2200\n",
      "Epoch 93/100\n",
      "1712/1712 [==============================] - 48s 28ms/step - loss: 10.0586 - r_square: 0.9716 - rmse: 3.1579 - val_loss: 10.5012 - val_r_square: 0.9703 - val_rmse: 3.2200\n",
      "Epoch 94/100\n",
      "1712/1712 [==============================] - 49s 29ms/step - loss: 10.0587 - r_square: 0.9716 - rmse: 3.1579 - val_loss: 10.5015 - val_r_square: 0.9703 - val_rmse: 3.2200\n",
      "Epoch 95/100\n",
      "1712/1712 [==============================] - 48s 28ms/step - loss: 10.0589 - r_square: 0.9716 - rmse: 3.1579 - val_loss: 10.5017 - val_r_square: 0.9703 - val_rmse: 3.2201\n",
      "Epoch 96/100\n",
      "1712/1712 [==============================] - 49s 29ms/step - loss: 10.0590 - r_square: 0.9716 - rmse: 3.1580 - val_loss: 10.5019 - val_r_square: 0.9703 - val_rmse: 3.2201\n",
      "Epoch 97/100\n",
      "1712/1712 [==============================] - 49s 28ms/step - loss: 10.0592 - r_square: 0.9716 - rmse: 3.1580 - val_loss: 10.5020 - val_r_square: 0.9703 - val_rmse: 3.2201\n",
      "Epoch 98/100\n",
      "1712/1712 [==============================] - 48s 28ms/step - loss: 10.0593 - r_square: 0.9716 - rmse: 3.1580 - val_loss: 10.5021 - val_r_square: 0.9703 - val_rmse: 3.2201\n",
      "Epoch 99/100\n",
      "1712/1712 [==============================] - 49s 28ms/step - loss: 10.0595 - r_square: 0.9716 - rmse: 3.1580 - val_loss: 10.5022 - val_r_square: 0.9703 - val_rmse: 3.2202\n",
      "Epoch 100/100\n",
      "1712/1712 [==============================] - 47s 27ms/step - loss: 10.0596 - r_square: 0.9716 - rmse: 3.1581 - val_loss: 10.5023 - val_r_square: 0.9703 - val_rmse: 3.2202\n",
      "The model took 6920.004 seconds to run\n"
     ]
    }
   ],
   "source": [
    "# Possible extensions\n",
    "start_time=time.time()\n",
    "\n",
    "model3 = Sequential()\n",
    "\n",
    "model3.add(Conv2D(128, kernel_size = (3,3), input_shape=(96,96,1), activation = 'relu'))\n",
    "model3.add(AvgPool2D(pool_size=(2, 2)))\n",
    "\n",
    "model3.add(Conv2D(64, kernel_size = (3,3), padding = 'same', activation = 'relu'))\n",
    "model3.add(MaxPool2D(pool_size=(2, 2)))\n",
    "\n",
    "model3.add(Conv2D(32, kernel_size = (3,3), padding = 'same', activation = 'relu'))\n",
    "model3.add(MaxPool2D(pool_size=(2, 2)))\n",
    "\n",
    "model3.add(Flatten())\n",
    "model3.add(Dropout(0.5))\n",
    "model3.add(Dense(600, activation = 'relu'))\n",
    "model3.add(Dense(120, activation = 'relu'))\n",
    "model3.add(Dense(60, activation = 'relu'))\n",
    "model3.add(Dense(60, activation = 'softmax'))\n",
    "model3.add(Dense(30))\n",
    "\n",
    "#sgd = optimizers.SGD(lr=0.01, momentum=0.9, nesterov=True)\n",
    "adam = optimizers.Adam(lr=0.01, beta_1=0.9, beta_2=0.999, epsilon=None, decay=0.0, amsgrad=False)\n",
    "model3.compile(loss='mse', optimizer=adam,  metrics=[r_square, rmse])\n",
    "ext_model2 = model3.fit(train_data, train_labels, validation_data=[val_data, val_labels], shuffle=False, epochs=epochs, batch_size=20)\n",
    "\n",
    "total_time=time.time()-start_time\n",
    "print(\"The model took {} seconds to run\".format(round(total_time,3)))\n"
   ]
  },
  {
   "cell_type": "code",
   "execution_count": 66,
   "metadata": {},
   "outputs": [
    {
     "name": "stdout",
     "output_type": "stream",
     "text": [
      "Below are the model performance plots after 100 epoches:\n"
     ]
    },
    {
     "data": {
      "image/png": "[encoded data removed]",
      "text/plain": [
       "<Figure size 432x288 with 1 Axes>"
      ]
     },
     "metadata": {
      "needs_background": "light"
     },
     "output_type": "display_data"
    },
    {
     "data": {
      "image/png": "[encoded data removed]",
      "text/plain": [
       "<Figure size 432x288 with 1 Axes>"
      ]
     },
     "metadata": {
      "needs_background": "light"
     },
     "output_type": "display_data"
    },
    {
     "name": "stdout",
     "output_type": "stream",
     "text": [
      "Validation RMSE: 3.2201685036454246\n",
      "Performance increase relative to baseline: 43.06%\n"
     ]
    }
   ],
   "source": [
    "model_evaluation(ext_model2, history)"
   ]
  },
  {
   "cell_type": "code",
   "execution_count": 67,
   "metadata": {},
   "outputs": [
    {
     "name": "stdout",
     "output_type": "stream",
     "text": [
      "Below are the model performance plots after 100 epoches:\n"
     ]
    },
    {
     "data": {
      "image/png": "[encoded data removed]",
      "text/plain": [
       "<Figure size 432x288 with 1 Axes>"
      ]
     },
     "metadata": {
      "needs_background": "light"
     },
     "output_type": "display_data"
    },
    {
     "data": {
      "image/png": "[encoded data removed]",
      "text/plain": [
       "<Figure size 432x288 with 1 Axes>"
      ]
     },
     "metadata": {
      "needs_background": "light"
     },
     "output_type": "display_data"
    },
    {
     "name": "stdout",
     "output_type": "stream",
     "text": [
      "Validation RMSE: 3.2201685036454246\n",
      "Performance increase relative to baseline: -0.0%\n"
     ]
    }
   ],
   "source": [
    "model_evaluation(ext_model2, ext_model)"
   ]
  },
  {
   "cell_type": "code",
   "execution_count": null,
   "metadata": {},
   "outputs": [],
   "source": []
  }
 ],
 "metadata": {
  "kernelspec": {
   "display_name": "Python 3",
   "language": "python",
   "name": "python3"
  },
  "language_info": {
   "codemirror_mode": {
    "name": "ipython",
    "version": 3
   },
   "file_extension": ".py",
   "mimetype": "text/x-python",
   "name": "python",
   "nbconvert_exporter": "python",
   "pygments_lexer": "ipython3",
   "version": "3.6.8"
  }
 },
 "nbformat": 4,
 "nbformat_minor": 2
}

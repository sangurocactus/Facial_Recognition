{
 "cells": [
  {
   "cell_type": "code",
   "execution_count": null,
   "metadata": {},
   "outputs": [],
   "source": [
    "%matplotlib inline\n",
    "import pandas as pd\n",
    "import numpy as np\n",
    "import matplotlib.pyplot as plt\n",
    "import matplotlib.patches as patches\n",
    "import matplotlib.image as mpimg\n",
    "\n",
    "from sklearn.metrics import classification_report\n",
    "\n",
    "#from keras.models import Sequential \n",
    "#from keras.layers import BatchNormalization, Conv2D, Dense, Activation, MaxPooling2D, GlobalAveragePooling2D\n",
    "#from keras import optimizers\n",
    "\n",
    "from sklearn.pipeline import make_pipeline\n",
    "from sklearn.preprocessing import MinMaxScaler\n",
    "\n",
    "#from tensorflow.keras.preprocessing.image import ImageDataGenerator\n",
    "#from tensorflow.keras.preprocessing.image import array_to_img, img_to_array, load_img\n",
    "\n",
    "#PW: added warning ignore\n",
    "import warnings\n",
    "warnings.filterwarnings('ignore')"
   ]
  },
  {
   "cell_type": "code",
   "execution_count": null,
   "metadata": {},
   "outputs": [],
   "source": [
    "import dlib\n",
    "import face_recognition"
   ]
  },
  {
   "cell_type": "code",
   "execution_count": null,
   "metadata": {},
   "outputs": [],
   "source": [
    "# not in git repo because of file size...\n",
    "path_train = 'training.csv'\n",
    "path_test = 'test.csv'\n",
    "\n",
    "df_train = pd.read_csv(path_train)\n",
    "df_test = pd.read_csv(path_test)"
   ]
  },
  {
   "cell_type": "code",
   "execution_count": null,
   "metadata": {},
   "outputs": [],
   "source": [
    "# positions training\n",
    "labels = df_train.iloc[:, 0:30]\n",
    "labels.columns"
   ]
  },
  {
   "cell_type": "code",
   "execution_count": null,
   "metadata": {},
   "outputs": [],
   "source": [
    "# processing training data such that each pixel has its own column and is seperated from the labels\n",
    "kaggle_train = df_train.loc[:,'Image'].T\n",
    "kaggle_train = kaggle_train.astype(str)\n",
    "kaggle_train = kaggle_train.str.split(\" \", expand = True) "
   ]
  },
  {
   "cell_type": "code",
   "execution_count": null,
   "metadata": {},
   "outputs": [],
   "source": [
    "# processing test data such that each pixel has its own column,\n",
    "# merging it then with the ImageId column\n",
    "image_test = df_test.loc[:,'Image'].T\n",
    "image_test = image_test.astype(str)\n",
    "image_test = image_test.str.split(\" \", expand = True)\n",
    "kaggle_test = pd.DataFrame(df_test.loc[:,'ImageId']).join(image_test)"
   ]
  },
  {
   "cell_type": "code",
   "execution_count": null,
   "metadata": {},
   "outputs": [],
   "source": [
    "# What we can do is attempt to label as much as we can. \n",
    "# we can go through each example that does not have a complete set of labels \n",
    "# feed the image through and attempt to let face_recognition spit out the labels for us \n",
    "# If there are no labels to be spat out, mark the index. "
   ]
  },
  {
   "cell_type": "code",
   "execution_count": null,
   "metadata": {},
   "outputs": [],
   "source": [
    "def get_image_and_save(index): \n",
    "    a = np.array(kaggle_train.iloc[index,:].astype(int))\n",
    "    b = np.interp(a, (a.min(), a.max()), (0, +1)) #rescale \n",
    "    mat=np.reshape(b, (96,96))\n",
    "    img = Image.fromarray(np.uint8(mat * 255) , 'L')\n",
    "    return(img)"
   ]
  },
  {
   "cell_type": "code",
   "execution_count": null,
   "metadata": {},
   "outputs": [],
   "source": [
    "def make_points(labels_fr, index): \n",
    "    new_row_label={'row_index':index,'left_eye_center_x': 0, 'left_eye_center_y': 0, 'right_eye_center_x': 0,\n",
    "       'right_eye_center_y':0, 'left_eye_inner_corner_x':0,\n",
    "       'left_eye_inner_corner_y':0, 'left_eye_outer_corner_x':0,\n",
    "       'left_eye_outer_corner_y':0, 'right_eye_inner_corner_x':0,\n",
    "       'right_eye_inner_corner_y':0, 'right_eye_outer_corner_x':0,\n",
    "       'right_eye_outer_corner_y':0, 'left_eyebrow_inner_end_x':0,\n",
    "       'left_eyebrow_inner_end_y':0, 'left_eyebrow_outer_end_x':0,\n",
    "       'left_eyebrow_outer_end_y':0, 'right_eyebrow_inner_end_x':0,\n",
    "       'right_eyebrow_inner_end_y':0, 'right_eyebrow_outer_end_x':0,\n",
    "       'right_eyebrow_outer_end_y':0, 'nose_tip_x':0, 'nose_tip_y':0,\n",
    "       'mouth_left_corner_x':0, 'mouth_left_corner_y':0, 'mouth_right_corner_x':0,\n",
    "       'mouth_right_corner_y':0, 'mouth_center_top_lip_x':0,\n",
    "       'mouth_center_top_lip_y':0, 'mouth_center_bottom_lip_x':0,\n",
    "       'mouth_center_bottom_lip_y':0}\n",
    "    for face_landmarks in labels_fr: \n",
    "        for facial_feature in kaggle_keys: \n",
    "            #print(facial_feature)\n",
    "            df_feature = pd.DataFrame(face_landmarks[facial_feature])\n",
    "            df_feature.columns=['x','y']\n",
    "            if (facial_feature=='left_eyebrow'): \n",
    "                left_inner = df_feature.sort_values(by='x', ascending=True).reset_index(drop=True).loc[0,:]\n",
    "                left_outer = df_feature.sort_values(by='x', ascending=False).reset_index(drop=True).loc[0,:]\n",
    "                #df_subfeature=pd.DataFrame([right, left]).reset_index(drop=True)\n",
    "                #plt.gca().scatter(df_subfeature['x'], df_subfeature['y'], c = 'red', s = 5)\n",
    "                new_row_label['left_eyebrow_inner_end_y']=left_inner['y']\n",
    "                new_row_label['left_eyebrow_inner_end_x']=left_inner['x']\n",
    "                new_row_label['left_eyebrow_outer_end_y']=left_outer['y']\n",
    "                new_row_label['left_eyebrow_outer_end_x']=left_outer['x']\n",
    "            elif (facial_feature=='right_eyebrow'): \n",
    "                right_inner = df_feature.sort_values(by='x', ascending=True).reset_index(drop=True).loc[0,:]\n",
    "                right_outer = df_feature.sort_values(by='x', ascending=False).reset_index(drop=True).loc[0,:]\n",
    "                new_row_label['right_eyebrow_inner_end_y']=right_inner['y']\n",
    "                new_row_label['right_eyebrow_inner_end_x']=right_inner['x']\n",
    "                new_row_label['right_eyebrow_outer_end_y']=right_outer['y']\n",
    "                new_row_label['right_eyebrow_outer_end_x']=right_outer['x']\n",
    "            elif (facial_feature=='nose_tip'): \n",
    "                df_subfeature=df_feature.sort_values(by='y', ascending=False).reset_index(drop=True).loc[0,:]\n",
    "                new_row_label['nose_tip_x']=df_subfeature['x']\n",
    "                new_row_label['nose_tip_y']=df_subfeature['y']\n",
    "                #plt.gca().scatter(df_subfeature['x'], df_subfeature['y'], c = 'red', s = 5)\n",
    "            elif (facial_feature=='left_eye'):\n",
    "                left_inner = df_feature.sort_values(by='x', ascending=True).reset_index(drop=True).loc[0,:]\n",
    "                left_outer = df_feature.sort_values(by='x', ascending=False).reset_index(drop=True).loc[0,:]\n",
    "                mu_x= (left_inner['x']+left_outer['x'])/2\n",
    "                mu_y= (left_inner['y']+left_outer['y'])/2 \n",
    "                new_row_label['left_eye_center_x']=mu_x\n",
    "                new_row_label['left_eye_center_y']=mu_y\n",
    "                new_row_label['left_eye_inner_corner_x']=left_inner['x']\n",
    "                new_row_label['left_eye_inner_corner_y']=left_inner['y']\n",
    "                new_row_label['left_eye_outer_corner_x']=left_outer['x']\n",
    "                new_row_label['left_eye_outer_corner_y']=left_outer['y']\n",
    "                #plt.gca().scatter(df_subfeature['x'], df_subfeature['y'], c = 'red', s = 5)\n",
    "            elif (facial_feature=='right_eye'): \n",
    "                right_inner = df_feature.sort_values(by='x', ascending=True).reset_index(drop=True).loc[0,:]\n",
    "                right_outer = df_feature.sort_values(by='x', ascending=False).reset_index(drop=True).loc[0,:]\n",
    "                mu_x= (right_inner['x']+right_outer['x'])/2\n",
    "                mu_y= (right_inner['y']+right_outer['y'])/2 \n",
    "                new_row_label['right_eye_center_x']=mu_x\n",
    "                new_row_label['right_eye_center_y']=mu_y\n",
    "                new_row_label['right_eye_inner_corner_x']=right_inner['x']\n",
    "                new_row_label['right_eye_inner_corner_y']=right_inner['y']\n",
    "                new_row_label['right_eye_outer_corner_x']=right_outer['x']\n",
    "                new_row_label['right_eye_outer_corner_y']=right_outer['y']                \n",
    "            elif (facial_feature=='top_lip'): #this will take some messing with python\n",
    "                df_subfeature = df_feature.sort_values(by='y', ascending=False).reset_index(drop=True)\n",
    "                toplip_x_mean=np.nanmean([min(df_subfeature['x']), max(df_subfeature['x'])])\n",
    "                subdf = df_subfeature[(df_subfeature['x']<=(toplip_x_mean+5)) & (df_subfeature['x']>=(toplip_x_mean-5))].sort_values(by='y').reset_index(drop=True).loc[0,:]\n",
    "                getnosetip = pd.DataFrame(face_landmarks['nose_tip']) \n",
    "                getnosetip.columns=['x','y']\n",
    "                getnosetip_sub = getnosetip.sort_values(by='y', ascending=False).reset_index(drop=True).loc[0,:]\n",
    "                new_row_label['mouth_center_top_lip_x']=getnosetip_sub['x']\n",
    "                new_row_label['mouth_center_top_lip_y']=subdf['y']\n",
    "                #plt.gca().scatter(subdf['x'], subdf['y'], c = 'red', s = 5)\n",
    "            else: \n",
    "                # this is bottom_lip \n",
    "                right = df_feature.sort_values(by='x', ascending=True).reset_index(drop=True).loc[0,:]\n",
    "                left = df_feature.sort_values(by='x', ascending=False).reset_index(drop=True).loc[0,:]\n",
    "                df_subfeature = df_feature.sort_values(by='y', ascending=False).reset_index(drop=True)\n",
    "                bottomlip_x_mean = np.nanmean([min(df_subfeature['x']), max(df_subfeature['x'])])\n",
    "                subdf = df_subfeature[(df_subfeature['x']<=(bottomlip_x_mean+5)) & (df_subfeature['x']>=(bottomlip_x_mean-5))].sort_values(by='y', ascending=False).reset_index(drop=True).loc[0,:]\n",
    "                #bottom = df_feature.sort_values(by='y', ascending=False).reset_index(drop=True).loc[0:2,:].apply(lambda x: np.nanmean(x), axis=0)\n",
    "                #df_subfeature=pd.DataFrame([right,left,bottom]).reset_index(drop=True)\n",
    "                getnosetip = pd.DataFrame(face_landmarks['nose_tip']) \n",
    "                getnosetip.columns=['x','y']\n",
    "                getnosetip_sub = getnosetip.sort_values(by='y', ascending=False).reset_index(drop=True).loc[0,:]\n",
    "                new_row_label['mouth_left_corner_x']=left['x']\n",
    "                new_row_label['mouth_left_corner_y']=left['y']\n",
    "                new_row_label['mouth_right_corner_x']=right['x']\n",
    "                new_row_label['mouth_right_corner_y']=right['y']\n",
    "                new_row_label['mouth_center_bottom_lip_x']=getnosetip_sub['x']\n",
    "                new_row_label['mouth_center_bottom_lip_y']=subdf['y']\n",
    "                #plt.gca().scatter(df_subfeature['x'], df_subfeature['y'], c = 'red', s = 5)\n",
    "    return pd.Series(new_row_label)"
   ]
  },
  {
   "cell_type": "code",
   "execution_count": null,
   "metadata": {},
   "outputs": [],
   "source": [
    "from PIL import Image\n",
    "import PIL.ImageOps\n",
    "from matplotlib import pyplot as mp\n",
    "\n",
    "copy_labels = labels.copy(deep=True) \n",
    "copy_labels['row_index']=range(len(copy_labels))\n",
    "copy_labels['nan_count'] = copy_labels.apply(lambda x: np.nansum(np.isnan(x)), axis=1)\n",
    "\n",
    "kaggle_keys = ['left_eyebrow','right_eyebrow','nose_tip','left_eye','right_eye','top_lip','bottom_lip']\n",
    "\n",
    "edit_labels=[]\n",
    "\n",
    "for index, row in copy_labels.iterrows(): \n",
    "    # go through each item in labels. If row is complete, append row by itself \n",
    "    if (row['nan_count']==0): \n",
    "        edit_labels.append(row.loc['left_eye_center_x':'row_index'])\n",
    "    # Row is not complete: send into face_recognition \n",
    "    else: \n",
    "        print(index)\n",
    "        array_image=get_image_and_save(index)\n",
    "        array_image.save('foo.jpg')\n",
    "        image_test = face_recognition.load_image_file(\"foo.jpg\")\n",
    "        image_test_labels = face_recognition.face_landmarks(image_test) #make landmarks \n",
    "        if (len(image_test_labels)==0): #face_recognition was unable to detect anything\n",
    "            edit_labels.append(row.loc['left_eye_center_x':'row_index'])#keep original\n",
    "        else: \n",
    "            created_labels = make_points(image_test_labels, index)\n",
    "            edit_labels.append(created_labels)\n",
    "            \n",
    "            \n",
    "        \n",
    "        "
   ]
  },
  {
   "cell_type": "code",
   "execution_count": null,
   "metadata": {},
   "outputs": [],
   "source": [
    "edited_labels = []\n",
    "for i in range(len(edit_labels)): \n",
    "    edited_labels.append(pd.DataFrame(edit_labels[i]).T)"
   ]
  },
  {
   "cell_type": "code",
   "execution_count": null,
   "metadata": {},
   "outputs": [],
   "source": [
    "edited_labels_df = pd.concat(edited_labels).reset_index(drop=True)\n",
    "edited_labels_df.drop('row_index', axis=1, inplace=True)"
   ]
  },
  {
   "cell_type": "code",
   "execution_count": null,
   "metadata": {},
   "outputs": [],
   "source": [
    "# we don't want to overwrite everything. \n",
    "# go through each label. \n",
    "# only take the edited_label's coordinate if it's missing. \n",
    "\n",
    "copy_labels_2 = labels.copy(deep=True) #because I don't want to edit the old one \n",
    "list_of_columns = copy_labels_2.columns\n",
    "for index, row in copy_labels_2.iterrows(): # go through each example \n",
    "    if np.nansum(np.isnan(row))==0: #if they have everything, skip \n",
    "        continue \n",
    "    else: #missing items in the row \n",
    "        for col in list_of_columns: #go through each col \n",
    "            if np.isnan(row[col])==True: \n",
    "                # replace \n",
    "                row[col]=edited_labels_df.loc[index, col]\n",
    "            else: \n",
    "                continue"
   ]
  },
  {
   "cell_type": "code",
   "execution_count": null,
   "metadata": {},
   "outputs": [],
   "source": [
    "#copy_labels_2.to_csv('edited_labels_v2.csv', index=False) \n",
    "# commented out such as not to overwrite the file by accident. "
   ]
  }
 ],
 "metadata": {
  "kernelspec": {
   "display_name": "Python 3",
   "language": "python",
   "name": "python3"
  },
  "language_info": {
   "codemirror_mode": {
    "name": "ipython",
    "version": 3
   },
   "file_extension": ".py",
   "mimetype": "text/x-python",
   "name": "python",
   "nbconvert_exporter": "python",
   "pygments_lexer": "ipython3",
   "version": "3.7.2"
  }
 },
 "nbformat": 4,
 "nbformat_minor": 2
}
